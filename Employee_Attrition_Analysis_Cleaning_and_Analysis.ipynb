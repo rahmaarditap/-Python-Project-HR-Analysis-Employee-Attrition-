{
 "cells": [
  {
   "cell_type": "markdown",
   "metadata": {},
   "source": [
    "# Business Problem\n",
    "One of the challenges for companies is employee attrition, particularly when it leads to the loss of skilled workers, increased recruitment costs, and reduced overall productivity. Understanding the employee attrition patterns and identifying key factors that influence attrition can help companies develop strategies to improve employee retention."
   ]
  },
  {
   "cell_type": "markdown",
   "metadata": {},
   "source": [
    "# Business Questions\n",
    "1. What is the overall attrition rate in the company?\n",
    "2. Which job roles have the highest attrition rates?\n",
    "3. What factors are associated with high attrition rates in job roles with the highest attrition rates?\n",
    "4. Are there spesific employee groups that are more likely leave the company?\n",
    "5. How does attrition trend vary across different levels of total working experience?"
   ]
  },
  {
   "cell_type": "markdown",
   "metadata": {
    "id": "TCLsZCL_e5o0"
   },
   "source": [
    "# Import Dataset"
   ]
  },
  {
   "cell_type": "code",
   "execution_count": 1,
   "metadata": {
    "id": "xWYWwxALesxQ"
   },
   "outputs": [],
   "source": [
    "import pandas as pd\n",
    "import numpy as np\n",
    "import seaborn as sns"
   ]
  },
  {
   "cell_type": "code",
   "execution_count": 2,
   "metadata": {
    "colab": {
     "base_uri": "https://localhost:8080/",
     "height": 325
    },
    "id": "QX5Akd4de-DX",
    "outputId": "2eabac93-aa1a-489c-eb6c-b99a90f34e26"
   },
   "outputs": [
    {
     "data": {
      "text/html": [
       "<div>\n",
       "<style scoped>\n",
       "    .dataframe tbody tr th:only-of-type {\n",
       "        vertical-align: middle;\n",
       "    }\n",
       "\n",
       "    .dataframe tbody tr th {\n",
       "        vertical-align: top;\n",
       "    }\n",
       "\n",
       "    .dataframe thead th {\n",
       "        text-align: right;\n",
       "    }\n",
       "</style>\n",
       "<table border=\"1\" class=\"dataframe\">\n",
       "  <thead>\n",
       "    <tr style=\"text-align: right;\">\n",
       "      <th></th>\n",
       "      <th>Age</th>\n",
       "      <th>Attrition</th>\n",
       "      <th>BusinessTravel</th>\n",
       "      <th>DailyRate</th>\n",
       "      <th>Department</th>\n",
       "      <th>DistanceFromHome</th>\n",
       "      <th>Education</th>\n",
       "      <th>EducationField</th>\n",
       "      <th>EmployeeCount</th>\n",
       "      <th>EmployeeNumber</th>\n",
       "      <th>...</th>\n",
       "      <th>RelationshipSatisfaction</th>\n",
       "      <th>StandardHours</th>\n",
       "      <th>StockOptionLevel</th>\n",
       "      <th>TotalWorkingYears</th>\n",
       "      <th>TrainingTimesLastYear</th>\n",
       "      <th>WorkLifeBalance</th>\n",
       "      <th>YearsAtCompany</th>\n",
       "      <th>YearsInCurrentRole</th>\n",
       "      <th>YearsSinceLastPromotion</th>\n",
       "      <th>YearsWithCurrManager</th>\n",
       "    </tr>\n",
       "  </thead>\n",
       "  <tbody>\n",
       "    <tr>\n",
       "      <th>0</th>\n",
       "      <td>41.0</td>\n",
       "      <td>Yes</td>\n",
       "      <td>Travel_Rarely</td>\n",
       "      <td>1102</td>\n",
       "      <td>Sales</td>\n",
       "      <td>1</td>\n",
       "      <td>2</td>\n",
       "      <td>Life Sciences</td>\n",
       "      <td>1</td>\n",
       "      <td>1</td>\n",
       "      <td>...</td>\n",
       "      <td>1</td>\n",
       "      <td>80</td>\n",
       "      <td>0</td>\n",
       "      <td>8</td>\n",
       "      <td>0</td>\n",
       "      <td>1</td>\n",
       "      <td>6</td>\n",
       "      <td>4</td>\n",
       "      <td>0</td>\n",
       "      <td>5</td>\n",
       "    </tr>\n",
       "    <tr>\n",
       "      <th>1</th>\n",
       "      <td>49.0</td>\n",
       "      <td>No</td>\n",
       "      <td>Travel_Frequently</td>\n",
       "      <td>279</td>\n",
       "      <td>Research &amp; Development</td>\n",
       "      <td>8</td>\n",
       "      <td>1</td>\n",
       "      <td>Life Sciences</td>\n",
       "      <td>1</td>\n",
       "      <td>2</td>\n",
       "      <td>...</td>\n",
       "      <td>4</td>\n",
       "      <td>80</td>\n",
       "      <td>1</td>\n",
       "      <td>10</td>\n",
       "      <td>3</td>\n",
       "      <td>3</td>\n",
       "      <td>10</td>\n",
       "      <td>7</td>\n",
       "      <td>1</td>\n",
       "      <td>7</td>\n",
       "    </tr>\n",
       "    <tr>\n",
       "      <th>2</th>\n",
       "      <td>37.0</td>\n",
       "      <td>Yes</td>\n",
       "      <td>Travel_Rarely</td>\n",
       "      <td>1373</td>\n",
       "      <td>Research &amp; Development</td>\n",
       "      <td>2</td>\n",
       "      <td>2</td>\n",
       "      <td>Other</td>\n",
       "      <td>1</td>\n",
       "      <td>4</td>\n",
       "      <td>...</td>\n",
       "      <td>2</td>\n",
       "      <td>80</td>\n",
       "      <td>0</td>\n",
       "      <td>7</td>\n",
       "      <td>3</td>\n",
       "      <td>3</td>\n",
       "      <td>0</td>\n",
       "      <td>0</td>\n",
       "      <td>0</td>\n",
       "      <td>0</td>\n",
       "    </tr>\n",
       "    <tr>\n",
       "      <th>3</th>\n",
       "      <td>33.0</td>\n",
       "      <td>No</td>\n",
       "      <td>Travel_Frequently</td>\n",
       "      <td>1392</td>\n",
       "      <td>Research &amp; Development</td>\n",
       "      <td>3</td>\n",
       "      <td>4</td>\n",
       "      <td>Life Sciences</td>\n",
       "      <td>1</td>\n",
       "      <td>5</td>\n",
       "      <td>...</td>\n",
       "      <td>3</td>\n",
       "      <td>80</td>\n",
       "      <td>0</td>\n",
       "      <td>8</td>\n",
       "      <td>3</td>\n",
       "      <td>3</td>\n",
       "      <td>8</td>\n",
       "      <td>7</td>\n",
       "      <td>3</td>\n",
       "      <td>0</td>\n",
       "    </tr>\n",
       "    <tr>\n",
       "      <th>4</th>\n",
       "      <td>27.0</td>\n",
       "      <td>No</td>\n",
       "      <td>Travel_Rarely</td>\n",
       "      <td>591</td>\n",
       "      <td>Research &amp; Development</td>\n",
       "      <td>2</td>\n",
       "      <td>1</td>\n",
       "      <td>Medical</td>\n",
       "      <td>1</td>\n",
       "      <td>7</td>\n",
       "      <td>...</td>\n",
       "      <td>4</td>\n",
       "      <td>80</td>\n",
       "      <td>1</td>\n",
       "      <td>6</td>\n",
       "      <td>3</td>\n",
       "      <td>3</td>\n",
       "      <td>2</td>\n",
       "      <td>2</td>\n",
       "      <td>2</td>\n",
       "      <td>2</td>\n",
       "    </tr>\n",
       "  </tbody>\n",
       "</table>\n",
       "<p>5 rows × 35 columns</p>\n",
       "</div>"
      ],
      "text/plain": [
       "    Age Attrition     BusinessTravel  DailyRate              Department  \\\n",
       "0  41.0       Yes      Travel_Rarely       1102                   Sales   \n",
       "1  49.0        No  Travel_Frequently        279  Research & Development   \n",
       "2  37.0       Yes      Travel_Rarely       1373  Research & Development   \n",
       "3  33.0        No  Travel_Frequently       1392  Research & Development   \n",
       "4  27.0        No      Travel_Rarely        591  Research & Development   \n",
       "\n",
       "   DistanceFromHome  Education EducationField  EmployeeCount  EmployeeNumber  \\\n",
       "0                 1          2  Life Sciences              1               1   \n",
       "1                 8          1  Life Sciences              1               2   \n",
       "2                 2          2          Other              1               4   \n",
       "3                 3          4  Life Sciences              1               5   \n",
       "4                 2          1        Medical              1               7   \n",
       "\n",
       "   ...  RelationshipSatisfaction StandardHours  StockOptionLevel  \\\n",
       "0  ...                         1            80                 0   \n",
       "1  ...                         4            80                 1   \n",
       "2  ...                         2            80                 0   \n",
       "3  ...                         3            80                 0   \n",
       "4  ...                         4            80                 1   \n",
       "\n",
       "   TotalWorkingYears  TrainingTimesLastYear WorkLifeBalance  YearsAtCompany  \\\n",
       "0                  8                      0               1               6   \n",
       "1                 10                      3               3              10   \n",
       "2                  7                      3               3               0   \n",
       "3                  8                      3               3               8   \n",
       "4                  6                      3               3               2   \n",
       "\n",
       "  YearsInCurrentRole  YearsSinceLastPromotion  YearsWithCurrManager  \n",
       "0                  4                        0                     5  \n",
       "1                  7                        1                     7  \n",
       "2                  0                        0                     0  \n",
       "3                  7                        3                     0  \n",
       "4                  2                        2                     2  \n",
       "\n",
       "[5 rows x 35 columns]"
      ]
     },
     "execution_count": 2,
     "metadata": {},
     "output_type": "execute_result"
    }
   ],
   "source": [
    "df = pd.read_csv('D:/Skills/Portfolio/Dataset/HR-Employee-Attrition-Messy.csv')\n",
    "df.head()"
   ]
  },
  {
   "cell_type": "markdown",
   "metadata": {
    "id": "w0IJaA-rfWpx"
   },
   "source": [
    "# Data Cleansing"
   ]
  },
  {
   "cell_type": "markdown",
   "metadata": {
    "id": "45WTmD6KfdHO"
   },
   "source": [
    "## Handling Missing Values"
   ]
  },
  {
   "cell_type": "code",
   "execution_count": 3,
   "metadata": {
    "colab": {
     "base_uri": "https://localhost:8080/",
     "height": 125
    },
    "id": "QCF7D0xAg0YN",
    "outputId": "adeedc6c-c212-41c1-81bd-f92b358d722f"
   },
   "outputs": [
    {
     "data": {
      "text/html": [
       "<div>\n",
       "<style scoped>\n",
       "    .dataframe tbody tr th:only-of-type {\n",
       "        vertical-align: middle;\n",
       "    }\n",
       "\n",
       "    .dataframe tbody tr th {\n",
       "        vertical-align: top;\n",
       "    }\n",
       "\n",
       "    .dataframe thead th {\n",
       "        text-align: right;\n",
       "    }\n",
       "</style>\n",
       "<table border=\"1\" class=\"dataframe\">\n",
       "  <thead>\n",
       "    <tr style=\"text-align: right;\">\n",
       "      <th></th>\n",
       "      <th>Column</th>\n",
       "      <th>Total Missing Values</th>\n",
       "    </tr>\n",
       "  </thead>\n",
       "  <tbody>\n",
       "    <tr>\n",
       "      <th>0</th>\n",
       "      <td>Age</td>\n",
       "      <td>15</td>\n",
       "    </tr>\n",
       "    <tr>\n",
       "      <th>4</th>\n",
       "      <td>Department</td>\n",
       "      <td>10</td>\n",
       "    </tr>\n",
       "  </tbody>\n",
       "</table>\n",
       "</div>"
      ],
      "text/plain": [
       "       Column  Total Missing Values\n",
       "0         Age                    15\n",
       "4  Department                    10"
      ]
     },
     "execution_count": 3,
     "metadata": {},
     "output_type": "execute_result"
    }
   ],
   "source": [
    "#check missing values\n",
    "missing_values = df.isnull().sum().reset_index()\n",
    "missing_values.columns = ['Column', 'Total Missing Values']\n",
    "\n",
    "#show columns that have missing values\n",
    "missing_values_count = missing_values[missing_values['Total Missing Values'] > 0]\n",
    "missing_values_count"
   ]
  },
  {
   "cell_type": "markdown",
   "metadata": {},
   "source": [
    "Imputation missing values with mean and mode"
   ]
  },
  {
   "cell_type": "code",
   "execution_count": 4,
   "metadata": {
    "colab": {
     "base_uri": "https://localhost:8080/",
     "height": 583
    },
    "id": "UQYaqm_40fC3",
    "outputId": "a3c41ce6-ff6f-49f8-8825-461183201bce"
   },
   "outputs": [],
   "source": [
    "df_clean = df.copy()\n",
    "\n",
    "#imputation 'Age' with mean\n",
    "df_clean['Age'] = df_clean['Age'].fillna(df_clean['Age'].mean().round())\n",
    "\n",
    "#imputation 'Department' with mode\n",
    "df_clean['Department'] = df_clean['Department'].fillna(df_clean['Department'].mode()[0])"
   ]
  },
  {
   "cell_type": "code",
   "execution_count": 5,
   "metadata": {
    "colab": {
     "base_uri": "https://localhost:8080/",
     "height": 1000
    },
    "id": "b8aP4ZvL2Lg9",
    "outputId": "bdef5721-56a8-4ff9-de91-4d8850ec746a"
   },
   "outputs": [
    {
     "data": {
      "text/plain": [
       "Age                         0\n",
       "Attrition                   0\n",
       "BusinessTravel              0\n",
       "DailyRate                   0\n",
       "Department                  0\n",
       "DistanceFromHome            0\n",
       "Education                   0\n",
       "EducationField              0\n",
       "EmployeeCount               0\n",
       "EmployeeNumber              0\n",
       "EnvironmentSatisfaction     0\n",
       "Gender                      0\n",
       "HourlyRate                  0\n",
       "JobInvolvement              0\n",
       "JobLevel                    0\n",
       "JobRole                     0\n",
       "JobSatisfaction             0\n",
       "MaritalStatus               0\n",
       "MonthlyIncome               0\n",
       "MonthlyRate                 0\n",
       "NumCompaniesWorked          0\n",
       "Over18                      0\n",
       "OverTime                    0\n",
       "PercentSalaryHike           0\n",
       "PerformanceRating           0\n",
       "RelationshipSatisfaction    0\n",
       "StandardHours               0\n",
       "StockOptionLevel            0\n",
       "TotalWorkingYears           0\n",
       "TrainingTimesLastYear       0\n",
       "WorkLifeBalance             0\n",
       "YearsAtCompany              0\n",
       "YearsInCurrentRole          0\n",
       "YearsSinceLastPromotion     0\n",
       "YearsWithCurrManager        0\n",
       "dtype: int64"
      ]
     },
     "execution_count": 5,
     "metadata": {},
     "output_type": "execute_result"
    }
   ],
   "source": [
    "#re-check missing values\n",
    "df_clean.isnull().sum()"
   ]
  },
  {
   "cell_type": "markdown",
   "metadata": {
    "id": "sdtK0wF51adD"
   },
   "source": [
    "## Data Correction"
   ]
  },
  {
   "cell_type": "markdown",
   "metadata": {
    "id": "wACgJDOZJarb"
   },
   "source": [
    "### Change Data Type \n"
   ]
  },
  {
   "cell_type": "code",
   "execution_count": 6,
   "metadata": {
    "id": "2e3gkl_qFmez"
   },
   "outputs": [],
   "source": [
    "df_clean['Age'] = df_clean['Age'].astype('Int64')"
   ]
  },
  {
   "cell_type": "code",
   "execution_count": 7,
   "metadata": {},
   "outputs": [],
   "source": [
    "df_clean[['Education','EnvironmentSatisfaction', 'JobInvolvement', 'JobLevel', 'JobSatisfaction', 'PerformanceRating', 'RelationshipSatisfaction', 'StockOptionLevel']] = df_clean[['Education','EnvironmentSatisfaction', 'JobInvolvement', 'JobLevel', 'JobSatisfaction', 'PerformanceRating', 'RelationshipSatisfaction', 'StockOptionLevel']].astype('category')"
   ]
  },
  {
   "cell_type": "code",
   "execution_count": 8,
   "metadata": {
    "colab": {
     "base_uri": "https://localhost:8080/"
    },
    "id": "-XHgx7pUFjhZ",
    "outputId": "b32be7e8-3e82-4a77-ab2c-bb4080aa00c5"
   },
   "outputs": [
    {
     "data": {
      "text/plain": [
       "Age                            Int64\n",
       "Attrition                     object\n",
       "BusinessTravel                object\n",
       "DailyRate                      int64\n",
       "Department                    object\n",
       "DistanceFromHome               int64\n",
       "Education                   category\n",
       "EducationField                object\n",
       "EmployeeCount                  int64\n",
       "EmployeeNumber                 int64\n",
       "EnvironmentSatisfaction     category\n",
       "Gender                        object\n",
       "HourlyRate                     int64\n",
       "JobInvolvement              category\n",
       "JobLevel                    category\n",
       "JobRole                       object\n",
       "JobSatisfaction             category\n",
       "MaritalStatus                 object\n",
       "MonthlyIncome                  int64\n",
       "MonthlyRate                    int64\n",
       "NumCompaniesWorked             int64\n",
       "Over18                        object\n",
       "OverTime                      object\n",
       "PercentSalaryHike              int64\n",
       "PerformanceRating           category\n",
       "RelationshipSatisfaction    category\n",
       "StandardHours                  int64\n",
       "StockOptionLevel            category\n",
       "TotalWorkingYears              int64\n",
       "TrainingTimesLastYear          int64\n",
       "WorkLifeBalance                int64\n",
       "YearsAtCompany                 int64\n",
       "YearsInCurrentRole             int64\n",
       "YearsSinceLastPromotion        int64\n",
       "YearsWithCurrManager           int64\n",
       "dtype: object"
      ]
     },
     "execution_count": 8,
     "metadata": {},
     "output_type": "execute_result"
    }
   ],
   "source": [
    "df_clean.dtypes"
   ]
  },
  {
   "cell_type": "markdown",
   "metadata": {},
   "source": [
    "### Fix Incorrect Values in Categorical Columns"
   ]
  },
  {
   "cell_type": "code",
   "execution_count": 9,
   "metadata": {},
   "outputs": [
    {
     "name": "stdout",
     "output_type": "stream",
     "text": [
      "Attrition\n",
      "['Yes' 'No']\n",
      "----------------------------------------------------------------------\n",
      "BusinessTravel\n",
      "['Travel_Rarely' 'Travel_Frequently' 'Travel_Freque' 'Non-Travel']\n",
      "----------------------------------------------------------------------\n",
      "Department\n",
      "['Sales' 'Research & Development' 'Reseach & Development'\n",
      " 'Human Resources']\n",
      "----------------------------------------------------------------------\n",
      "EducationField\n",
      "['Life Sciences' 'Other' 'Medical' 'Marketing' 'Technical Degree'\n",
      " 'Human Resources']\n",
      "----------------------------------------------------------------------\n",
      "Gender\n",
      "['Female' 'Male' 'Mle']\n",
      "----------------------------------------------------------------------\n",
      "JobRole\n",
      "['Sales Executive' 'Research Scientist' 'Laboratory Technician'\n",
      " 'Manufacturing Director' 'Healthcare Representative' 'Manager'\n",
      " 'Sales Representative' 'Research Director' 'Human Resources']\n",
      "----------------------------------------------------------------------\n",
      "MaritalStatus\n",
      "['Single' 'Married' 'Divorced']\n",
      "----------------------------------------------------------------------\n",
      "Over18\n",
      "['Y']\n",
      "----------------------------------------------------------------------\n",
      "OverTime\n",
      "['Yes' 'No']\n",
      "----------------------------------------------------------------------\n"
     ]
    }
   ],
   "source": [
    "#print unique values of categorical columns\n",
    "for col in df_clean.describe(include = 'object').columns:\n",
    "    print(col)\n",
    "    print(df_clean[col].unique())\n",
    "    print('-' * 70)"
   ]
  },
  {
   "cell_type": "markdown",
   "metadata": {
    "id": "Ba9pYnjvJda1"
   },
   "source": [
    "#### Gender Category\n",
    "replace 'Mle' with 'Male'"
   ]
  },
  {
   "cell_type": "code",
   "execution_count": 10,
   "metadata": {
    "colab": {
     "base_uri": "https://localhost:8080/"
    },
    "id": "3TKQKgiDIjMs",
    "outputId": "230ef75f-c872-43e4-ec16-7f4122a8b825"
   },
   "outputs": [
    {
     "name": "stdout",
     "output_type": "stream",
     "text": [
      "['Female' 'Male']\n"
     ]
    }
   ],
   "source": [
    "df_clean['Gender'] = df_clean['Gender'].str.replace('Mle', 'Male')\n",
    "print(df_clean['Gender'].unique())"
   ]
  },
  {
   "cell_type": "markdown",
   "metadata": {
    "id": "F2KqUTXwJg6M"
   },
   "source": [
    "#### Business Travel Category\n",
    "replace 'Travel_Freque' with 'Travel_Frequently'"
   ]
  },
  {
   "cell_type": "code",
   "execution_count": 11,
   "metadata": {
    "id": "0xsphbdMJrfP"
   },
   "outputs": [],
   "source": [
    "df_clean['BusinessTravel'] = df_clean['BusinessTravel'].replace('Travel_Freque', 'Travel_Frequently')"
   ]
  },
  {
   "cell_type": "code",
   "execution_count": 12,
   "metadata": {
    "colab": {
     "base_uri": "https://localhost:8080/"
    },
    "id": "JhXy5s1IJ0Rt",
    "outputId": "583e6992-8469-43e5-f613-5a53482769b3"
   },
   "outputs": [
    {
     "data": {
      "text/plain": [
       "array(['Travel_Rarely', 'Travel_Frequently', 'Non-Travel'], dtype=object)"
      ]
     },
     "execution_count": 12,
     "metadata": {},
     "output_type": "execute_result"
    }
   ],
   "source": [
    "df_clean['BusinessTravel'].unique()"
   ]
  },
  {
   "cell_type": "markdown",
   "metadata": {
    "id": "AvK-ow8CKAIE"
   },
   "source": [
    "#### Department Category\n",
    "replace 'Reseach & Development' with 'Research & Development'"
   ]
  },
  {
   "cell_type": "code",
   "execution_count": 13,
   "metadata": {
    "colab": {
     "base_uri": "https://localhost:8080/"
    },
    "id": "mB1mEDG5KFHr",
    "outputId": "c5cdcf50-e5fc-475a-97af-b2ae25cb411c"
   },
   "outputs": [
    {
     "data": {
      "text/plain": [
       "array(['Sales', 'Research & Development', 'Human Resources'], dtype=object)"
      ]
     },
     "execution_count": 13,
     "metadata": {},
     "output_type": "execute_result"
    }
   ],
   "source": [
    "df_clean['Department'] = df_clean['Department'].str.replace('Reseach & Development', 'Research & Development')\n",
    "df_clean['Department'].unique()"
   ]
  },
  {
   "cell_type": "markdown",
   "metadata": {
    "id": "hRVn5tFFLOE4"
   },
   "source": [
    "### Filter Total Working Years with positive value only"
   ]
  },
  {
   "cell_type": "code",
   "execution_count": 14,
   "metadata": {},
   "outputs": [
    {
     "data": {
      "text/plain": [
       "np.True_"
      ]
     },
     "execution_count": 14,
     "metadata": {},
     "output_type": "execute_result"
    }
   ],
   "source": [
    "(df_clean['TotalWorkingYears'] < 0).any()"
   ]
  },
  {
   "cell_type": "markdown",
   "metadata": {},
   "source": [
    "Since there are negative values for total working years, we are only using the positive ones."
   ]
  },
  {
   "cell_type": "code",
   "execution_count": 15,
   "metadata": {
    "id": "82GFciCbLS4V"
   },
   "outputs": [],
   "source": [
    "df_clean = df_clean[df_clean['TotalWorkingYears'] >= 0]"
   ]
  },
  {
   "cell_type": "markdown",
   "metadata": {
    "id": "KKO0n0IwsgSu"
   },
   "source": [
    "## Duplication"
   ]
  },
  {
   "cell_type": "code",
   "execution_count": 16,
   "metadata": {
    "colab": {
     "base_uri": "https://localhost:8080/"
    },
    "id": "ychQ2TeohZW4",
    "outputId": "ee8c9b23-5b3f-44c5-e8fa-55c8f996f69c"
   },
   "outputs": [
    {
     "name": "stdout",
     "output_type": "stream",
     "text": [
      "0\n"
     ]
    }
   ],
   "source": [
    "#check duplication\n",
    "print(df_clean.duplicated().sum())"
   ]
  },
  {
   "cell_type": "markdown",
   "metadata": {
    "id": "R-9t3347ZV_m"
   },
   "source": [
    "## Outlier Detection and Removal"
   ]
  },
  {
   "cell_type": "code",
   "execution_count": 17,
   "metadata": {},
   "outputs": [
    {
     "data": {
      "text/html": [
       "<div>\n",
       "<style scoped>\n",
       "    .dataframe tbody tr th:only-of-type {\n",
       "        vertical-align: middle;\n",
       "    }\n",
       "\n",
       "    .dataframe tbody tr th {\n",
       "        vertical-align: top;\n",
       "    }\n",
       "\n",
       "    .dataframe thead th {\n",
       "        text-align: right;\n",
       "    }\n",
       "</style>\n",
       "<table border=\"1\" class=\"dataframe\">\n",
       "  <thead>\n",
       "    <tr style=\"text-align: right;\">\n",
       "      <th></th>\n",
       "      <th>Age</th>\n",
       "      <th>DailyRate</th>\n",
       "      <th>DistanceFromHome</th>\n",
       "      <th>EmployeeCount</th>\n",
       "      <th>EmployeeNumber</th>\n",
       "      <th>HourlyRate</th>\n",
       "      <th>MonthlyIncome</th>\n",
       "      <th>MonthlyRate</th>\n",
       "      <th>NumCompaniesWorked</th>\n",
       "      <th>PercentSalaryHike</th>\n",
       "      <th>StandardHours</th>\n",
       "      <th>TotalWorkingYears</th>\n",
       "      <th>TrainingTimesLastYear</th>\n",
       "      <th>WorkLifeBalance</th>\n",
       "      <th>YearsAtCompany</th>\n",
       "      <th>YearsInCurrentRole</th>\n",
       "      <th>YearsSinceLastPromotion</th>\n",
       "      <th>YearsWithCurrManager</th>\n",
       "    </tr>\n",
       "  </thead>\n",
       "  <tbody>\n",
       "    <tr>\n",
       "      <th>count</th>\n",
       "      <td>1473.0</td>\n",
       "      <td>1473.000000</td>\n",
       "      <td>1473.000000</td>\n",
       "      <td>1473.0</td>\n",
       "      <td>1473.000000</td>\n",
       "      <td>1473.000000</td>\n",
       "      <td>1473.000000</td>\n",
       "      <td>1473.000000</td>\n",
       "      <td>1473.000000</td>\n",
       "      <td>1473.000000</td>\n",
       "      <td>1473.0</td>\n",
       "      <td>1473.000000</td>\n",
       "      <td>1473.000000</td>\n",
       "      <td>1473.000000</td>\n",
       "      <td>1473.000000</td>\n",
       "      <td>1473.000000</td>\n",
       "      <td>1473.000000</td>\n",
       "      <td>1473.000000</td>\n",
       "    </tr>\n",
       "    <tr>\n",
       "      <th>mean</th>\n",
       "      <td>36.928038</td>\n",
       "      <td>802.702648</td>\n",
       "      <td>9.183978</td>\n",
       "      <td>1.0</td>\n",
       "      <td>740.982349</td>\n",
       "      <td>65.882553</td>\n",
       "      <td>6501.703327</td>\n",
       "      <td>14326.982349</td>\n",
       "      <td>2.695180</td>\n",
       "      <td>15.211813</td>\n",
       "      <td>80.0</td>\n",
       "      <td>11.281738</td>\n",
       "      <td>2.799050</td>\n",
       "      <td>2.762390</td>\n",
       "      <td>7.000000</td>\n",
       "      <td>4.223354</td>\n",
       "      <td>2.181263</td>\n",
       "      <td>4.116090</td>\n",
       "    </tr>\n",
       "    <tr>\n",
       "      <th>std</th>\n",
       "      <td>9.099106</td>\n",
       "      <td>403.683493</td>\n",
       "      <td>8.099967</td>\n",
       "      <td>0.0</td>\n",
       "      <td>425.393219</td>\n",
       "      <td>20.308401</td>\n",
       "      <td>4704.207326</td>\n",
       "      <td>7122.524263</td>\n",
       "      <td>2.499747</td>\n",
       "      <td>3.658477</td>\n",
       "      <td>0.0</td>\n",
       "      <td>7.788303</td>\n",
       "      <td>1.286563</td>\n",
       "      <td>0.706548</td>\n",
       "      <td>6.126275</td>\n",
       "      <td>3.625423</td>\n",
       "      <td>3.216445</td>\n",
       "      <td>3.567207</td>\n",
       "    </tr>\n",
       "    <tr>\n",
       "      <th>min</th>\n",
       "      <td>18.0</td>\n",
       "      <td>102.000000</td>\n",
       "      <td>1.000000</td>\n",
       "      <td>1.0</td>\n",
       "      <td>1.000000</td>\n",
       "      <td>30.000000</td>\n",
       "      <td>1009.000000</td>\n",
       "      <td>2094.000000</td>\n",
       "      <td>0.000000</td>\n",
       "      <td>11.000000</td>\n",
       "      <td>80.0</td>\n",
       "      <td>0.000000</td>\n",
       "      <td>0.000000</td>\n",
       "      <td>1.000000</td>\n",
       "      <td>0.000000</td>\n",
       "      <td>0.000000</td>\n",
       "      <td>0.000000</td>\n",
       "      <td>0.000000</td>\n",
       "    </tr>\n",
       "    <tr>\n",
       "      <th>25%</th>\n",
       "      <td>30.0</td>\n",
       "      <td>465.000000</td>\n",
       "      <td>2.000000</td>\n",
       "      <td>1.0</td>\n",
       "      <td>373.000000</td>\n",
       "      <td>48.000000</td>\n",
       "      <td>2911.000000</td>\n",
       "      <td>8053.000000</td>\n",
       "      <td>1.000000</td>\n",
       "      <td>12.000000</td>\n",
       "      <td>80.0</td>\n",
       "      <td>6.000000</td>\n",
       "      <td>2.000000</td>\n",
       "      <td>2.000000</td>\n",
       "      <td>3.000000</td>\n",
       "      <td>2.000000</td>\n",
       "      <td>0.000000</td>\n",
       "      <td>2.000000</td>\n",
       "    </tr>\n",
       "    <tr>\n",
       "      <th>50%</th>\n",
       "      <td>36.0</td>\n",
       "      <td>802.000000</td>\n",
       "      <td>7.000000</td>\n",
       "      <td>1.0</td>\n",
       "      <td>741.000000</td>\n",
       "      <td>66.000000</td>\n",
       "      <td>4930.000000</td>\n",
       "      <td>14242.000000</td>\n",
       "      <td>2.000000</td>\n",
       "      <td>14.000000</td>\n",
       "      <td>80.0</td>\n",
       "      <td>10.000000</td>\n",
       "      <td>3.000000</td>\n",
       "      <td>3.000000</td>\n",
       "      <td>5.000000</td>\n",
       "      <td>3.000000</td>\n",
       "      <td>1.000000</td>\n",
       "      <td>3.000000</td>\n",
       "    </tr>\n",
       "    <tr>\n",
       "      <th>75%</th>\n",
       "      <td>43.0</td>\n",
       "      <td>1157.000000</td>\n",
       "      <td>14.000000</td>\n",
       "      <td>1.0</td>\n",
       "      <td>1109.000000</td>\n",
       "      <td>83.000000</td>\n",
       "      <td>8380.000000</td>\n",
       "      <td>20467.000000</td>\n",
       "      <td>4.000000</td>\n",
       "      <td>18.000000</td>\n",
       "      <td>80.0</td>\n",
       "      <td>15.000000</td>\n",
       "      <td>3.000000</td>\n",
       "      <td>3.000000</td>\n",
       "      <td>9.000000</td>\n",
       "      <td>7.000000</td>\n",
       "      <td>3.000000</td>\n",
       "      <td>7.000000</td>\n",
       "    </tr>\n",
       "    <tr>\n",
       "      <th>max</th>\n",
       "      <td>60.0</td>\n",
       "      <td>1499.000000</td>\n",
       "      <td>29.000000</td>\n",
       "      <td>1.0</td>\n",
       "      <td>1477.000000</td>\n",
       "      <td>100.000000</td>\n",
       "      <td>19999.000000</td>\n",
       "      <td>26999.000000</td>\n",
       "      <td>9.000000</td>\n",
       "      <td>25.000000</td>\n",
       "      <td>80.0</td>\n",
       "      <td>40.000000</td>\n",
       "      <td>6.000000</td>\n",
       "      <td>4.000000</td>\n",
       "      <td>40.000000</td>\n",
       "      <td>18.000000</td>\n",
       "      <td>15.000000</td>\n",
       "      <td>17.000000</td>\n",
       "    </tr>\n",
       "  </tbody>\n",
       "</table>\n",
       "</div>"
      ],
      "text/plain": [
       "             Age    DailyRate  DistanceFromHome  EmployeeCount  \\\n",
       "count     1473.0  1473.000000       1473.000000         1473.0   \n",
       "mean   36.928038   802.702648          9.183978            1.0   \n",
       "std     9.099106   403.683493          8.099967            0.0   \n",
       "min         18.0   102.000000          1.000000            1.0   \n",
       "25%         30.0   465.000000          2.000000            1.0   \n",
       "50%         36.0   802.000000          7.000000            1.0   \n",
       "75%         43.0  1157.000000         14.000000            1.0   \n",
       "max         60.0  1499.000000         29.000000            1.0   \n",
       "\n",
       "       EmployeeNumber   HourlyRate  MonthlyIncome   MonthlyRate  \\\n",
       "count     1473.000000  1473.000000    1473.000000   1473.000000   \n",
       "mean       740.982349    65.882553    6501.703327  14326.982349   \n",
       "std        425.393219    20.308401    4704.207326   7122.524263   \n",
       "min          1.000000    30.000000    1009.000000   2094.000000   \n",
       "25%        373.000000    48.000000    2911.000000   8053.000000   \n",
       "50%        741.000000    66.000000    4930.000000  14242.000000   \n",
       "75%       1109.000000    83.000000    8380.000000  20467.000000   \n",
       "max       1477.000000   100.000000   19999.000000  26999.000000   \n",
       "\n",
       "       NumCompaniesWorked  PercentSalaryHike  StandardHours  \\\n",
       "count         1473.000000        1473.000000         1473.0   \n",
       "mean             2.695180          15.211813           80.0   \n",
       "std              2.499747           3.658477            0.0   \n",
       "min              0.000000          11.000000           80.0   \n",
       "25%              1.000000          12.000000           80.0   \n",
       "50%              2.000000          14.000000           80.0   \n",
       "75%              4.000000          18.000000           80.0   \n",
       "max              9.000000          25.000000           80.0   \n",
       "\n",
       "       TotalWorkingYears  TrainingTimesLastYear  WorkLifeBalance  \\\n",
       "count        1473.000000            1473.000000      1473.000000   \n",
       "mean           11.281738               2.799050         2.762390   \n",
       "std             7.788303               1.286563         0.706548   \n",
       "min             0.000000               0.000000         1.000000   \n",
       "25%             6.000000               2.000000         2.000000   \n",
       "50%            10.000000               3.000000         3.000000   \n",
       "75%            15.000000               3.000000         3.000000   \n",
       "max            40.000000               6.000000         4.000000   \n",
       "\n",
       "       YearsAtCompany  YearsInCurrentRole  YearsSinceLastPromotion  \\\n",
       "count     1473.000000         1473.000000              1473.000000   \n",
       "mean         7.000000            4.223354                 2.181263   \n",
       "std          6.126275            3.625423                 3.216445   \n",
       "min          0.000000            0.000000                 0.000000   \n",
       "25%          3.000000            2.000000                 0.000000   \n",
       "50%          5.000000            3.000000                 1.000000   \n",
       "75%          9.000000            7.000000                 3.000000   \n",
       "max         40.000000           18.000000                15.000000   \n",
       "\n",
       "       YearsWithCurrManager  \n",
       "count           1473.000000  \n",
       "mean               4.116090  \n",
       "std                3.567207  \n",
       "min                0.000000  \n",
       "25%                2.000000  \n",
       "50%                3.000000  \n",
       "75%                7.000000  \n",
       "max               17.000000  "
      ]
     },
     "execution_count": 17,
     "metadata": {},
     "output_type": "execute_result"
    }
   ],
   "source": [
    "df_clean.describe()"
   ]
  },
  {
   "cell_type": "code",
   "execution_count": 18,
   "metadata": {},
   "outputs": [
    {
     "data": {
      "text/plain": [
       "count     1473.000000\n",
       "mean      6501.703327\n",
       "std       4704.207326\n",
       "min       1009.000000\n",
       "25%       2911.000000\n",
       "50%       4930.000000\n",
       "75%       8380.000000\n",
       "max      19999.000000\n",
       "Name: MonthlyIncome, dtype: float64"
      ]
     },
     "execution_count": 18,
     "metadata": {},
     "output_type": "execute_result"
    }
   ],
   "source": [
    "df_clean['MonthlyIncome'].describe()"
   ]
  },
  {
   "cell_type": "code",
   "execution_count": 19,
   "metadata": {
    "colab": {
     "base_uri": "https://localhost:8080/",
     "height": 565
    },
    "id": "jZL5JF3PZYKo",
    "outputId": "385cd84a-e8d0-438a-d09c-f3b1c6d347ff"
   },
   "outputs": [
    {
     "data": {
      "image/png": "[encoded data removed]",
      "text/plain": [
       "<Figure size 500x500 with 1 Axes>"
      ]
     },
     "metadata": {},
     "output_type": "display_data"
    }
   ],
   "source": [
    "import pandas as pd\n",
    "import numpy as np\n",
    "import matplotlib.pyplot as plt\n",
    "\n",
    "\n",
    "plt.figure(figsize=(5, 5))\n",
    "plt.boxplot(df_clean['MonthlyIncome'])\n",
    "plt.title('Box Plot of MonthlyIncome')\n",
    "plt.ylabel('MonthlyIncome')\n",
    "plt.show()"
   ]
  },
  {
   "cell_type": "code",
   "execution_count": 20,
   "metadata": {
    "colab": {
     "base_uri": "https://localhost:8080/",
     "height": 583
    },
    "id": "AvR1XKDPZqEU",
    "outputId": "382c51e4-2a70-4fb9-feea-22be27b22e47"
   },
   "outputs": [
    {
     "data": {
      "text/html": [
       "<div>\n",
       "<style scoped>\n",
       "    .dataframe tbody tr th:only-of-type {\n",
       "        vertical-align: middle;\n",
       "    }\n",
       "\n",
       "    .dataframe tbody tr th {\n",
       "        vertical-align: top;\n",
       "    }\n",
       "\n",
       "    .dataframe thead th {\n",
       "        text-align: right;\n",
       "    }\n",
       "</style>\n",
       "<table border=\"1\" class=\"dataframe\">\n",
       "  <thead>\n",
       "    <tr style=\"text-align: right;\">\n",
       "      <th></th>\n",
       "      <th>Age</th>\n",
       "      <th>Attrition</th>\n",
       "      <th>BusinessTravel</th>\n",
       "      <th>DailyRate</th>\n",
       "      <th>Department</th>\n",
       "      <th>DistanceFromHome</th>\n",
       "      <th>Education</th>\n",
       "      <th>EducationField</th>\n",
       "      <th>EmployeeCount</th>\n",
       "      <th>EmployeeNumber</th>\n",
       "      <th>...</th>\n",
       "      <th>RelationshipSatisfaction</th>\n",
       "      <th>StandardHours</th>\n",
       "      <th>StockOptionLevel</th>\n",
       "      <th>TotalWorkingYears</th>\n",
       "      <th>TrainingTimesLastYear</th>\n",
       "      <th>WorkLifeBalance</th>\n",
       "      <th>YearsAtCompany</th>\n",
       "      <th>YearsInCurrentRole</th>\n",
       "      <th>YearsSinceLastPromotion</th>\n",
       "      <th>YearsWithCurrManager</th>\n",
       "    </tr>\n",
       "  </thead>\n",
       "  <tbody>\n",
       "    <tr>\n",
       "      <th>24</th>\n",
       "      <td>53</td>\n",
       "      <td>No</td>\n",
       "      <td>Travel_Rarely</td>\n",
       "      <td>1282</td>\n",
       "      <td>Research &amp; Development</td>\n",
       "      <td>5</td>\n",
       "      <td>3</td>\n",
       "      <td>Other</td>\n",
       "      <td>1</td>\n",
       "      <td>28</td>\n",
       "      <td>...</td>\n",
       "      <td>4</td>\n",
       "      <td>80</td>\n",
       "      <td>1</td>\n",
       "      <td>26</td>\n",
       "      <td>3</td>\n",
       "      <td>2</td>\n",
       "      <td>14</td>\n",
       "      <td>13</td>\n",
       "      <td>4</td>\n",
       "      <td>8</td>\n",
       "    </tr>\n",
       "    <tr>\n",
       "      <th>28</th>\n",
       "      <td>46</td>\n",
       "      <td>No</td>\n",
       "      <td>Travel_Rarely</td>\n",
       "      <td>705</td>\n",
       "      <td>Sales</td>\n",
       "      <td>2</td>\n",
       "      <td>4</td>\n",
       "      <td>Marketing</td>\n",
       "      <td>1</td>\n",
       "      <td>32</td>\n",
       "      <td>...</td>\n",
       "      <td>4</td>\n",
       "      <td>80</td>\n",
       "      <td>0</td>\n",
       "      <td>22</td>\n",
       "      <td>2</td>\n",
       "      <td>2</td>\n",
       "      <td>2</td>\n",
       "      <td>2</td>\n",
       "      <td>2</td>\n",
       "      <td>1</td>\n",
       "    </tr>\n",
       "    <tr>\n",
       "      <th>44</th>\n",
       "      <td>41</td>\n",
       "      <td>Yes</td>\n",
       "      <td>Travel_Rarely</td>\n",
       "      <td>1360</td>\n",
       "      <td>Research &amp; Development</td>\n",
       "      <td>12</td>\n",
       "      <td>3</td>\n",
       "      <td>Technical Degree</td>\n",
       "      <td>1</td>\n",
       "      <td>48</td>\n",
       "      <td>...</td>\n",
       "      <td>4</td>\n",
       "      <td>80</td>\n",
       "      <td>0</td>\n",
       "      <td>23</td>\n",
       "      <td>0</td>\n",
       "      <td>3</td>\n",
       "      <td>22</td>\n",
       "      <td>15</td>\n",
       "      <td>15</td>\n",
       "      <td>8</td>\n",
       "    </tr>\n",
       "    <tr>\n",
       "      <th>61</th>\n",
       "      <td>50</td>\n",
       "      <td>No</td>\n",
       "      <td>Travel_Rarely</td>\n",
       "      <td>989</td>\n",
       "      <td>Research &amp; Development</td>\n",
       "      <td>7</td>\n",
       "      <td>2</td>\n",
       "      <td>Medical</td>\n",
       "      <td>1</td>\n",
       "      <td>65</td>\n",
       "      <td>...</td>\n",
       "      <td>4</td>\n",
       "      <td>80</td>\n",
       "      <td>1</td>\n",
       "      <td>29</td>\n",
       "      <td>2</td>\n",
       "      <td>2</td>\n",
       "      <td>27</td>\n",
       "      <td>3</td>\n",
       "      <td>13</td>\n",
       "      <td>8</td>\n",
       "    </tr>\n",
       "    <tr>\n",
       "      <th>104</th>\n",
       "      <td>59</td>\n",
       "      <td>No</td>\n",
       "      <td>Non-Travel</td>\n",
       "      <td>1420</td>\n",
       "      <td>Human Resources</td>\n",
       "      <td>2</td>\n",
       "      <td>4</td>\n",
       "      <td>Human Resources</td>\n",
       "      <td>1</td>\n",
       "      <td>108</td>\n",
       "      <td>...</td>\n",
       "      <td>4</td>\n",
       "      <td>80</td>\n",
       "      <td>1</td>\n",
       "      <td>30</td>\n",
       "      <td>3</td>\n",
       "      <td>3</td>\n",
       "      <td>3</td>\n",
       "      <td>2</td>\n",
       "      <td>2</td>\n",
       "      <td>2</td>\n",
       "    </tr>\n",
       "    <tr>\n",
       "      <th>...</th>\n",
       "      <td>...</td>\n",
       "      <td>...</td>\n",
       "      <td>...</td>\n",
       "      <td>...</td>\n",
       "      <td>...</td>\n",
       "      <td>...</td>\n",
       "      <td>...</td>\n",
       "      <td>...</td>\n",
       "      <td>...</td>\n",
       "      <td>...</td>\n",
       "      <td>...</td>\n",
       "      <td>...</td>\n",
       "      <td>...</td>\n",
       "      <td>...</td>\n",
       "      <td>...</td>\n",
       "      <td>...</td>\n",
       "      <td>...</td>\n",
       "      <td>...</td>\n",
       "      <td>...</td>\n",
       "      <td>...</td>\n",
       "      <td>...</td>\n",
       "    </tr>\n",
       "    <tr>\n",
       "      <th>1373</th>\n",
       "      <td>58</td>\n",
       "      <td>No</td>\n",
       "      <td>Travel_Rarely</td>\n",
       "      <td>605</td>\n",
       "      <td>Sales</td>\n",
       "      <td>21</td>\n",
       "      <td>3</td>\n",
       "      <td>Life Sciences</td>\n",
       "      <td>1</td>\n",
       "      <td>1377</td>\n",
       "      <td>...</td>\n",
       "      <td>3</td>\n",
       "      <td>80</td>\n",
       "      <td>1</td>\n",
       "      <td>29</td>\n",
       "      <td>2</td>\n",
       "      <td>2</td>\n",
       "      <td>1</td>\n",
       "      <td>0</td>\n",
       "      <td>0</td>\n",
       "      <td>0</td>\n",
       "    </tr>\n",
       "    <tr>\n",
       "      <th>1376</th>\n",
       "      <td>49</td>\n",
       "      <td>No</td>\n",
       "      <td>Travel_Frequently</td>\n",
       "      <td>1064</td>\n",
       "      <td>Research &amp; Development</td>\n",
       "      <td>2</td>\n",
       "      <td>1</td>\n",
       "      <td>Life Sciences</td>\n",
       "      <td>1</td>\n",
       "      <td>1380</td>\n",
       "      <td>...</td>\n",
       "      <td>4</td>\n",
       "      <td>80</td>\n",
       "      <td>0</td>\n",
       "      <td>28</td>\n",
       "      <td>3</td>\n",
       "      <td>3</td>\n",
       "      <td>5</td>\n",
       "      <td>4</td>\n",
       "      <td>4</td>\n",
       "      <td>3</td>\n",
       "    </tr>\n",
       "    <tr>\n",
       "      <th>1400</th>\n",
       "      <td>55</td>\n",
       "      <td>No</td>\n",
       "      <td>Travel_Rarely</td>\n",
       "      <td>189</td>\n",
       "      <td>Human Resources</td>\n",
       "      <td>26</td>\n",
       "      <td>4</td>\n",
       "      <td>Human Resources</td>\n",
       "      <td>1</td>\n",
       "      <td>1404</td>\n",
       "      <td>...</td>\n",
       "      <td>1</td>\n",
       "      <td>80</td>\n",
       "      <td>1</td>\n",
       "      <td>35</td>\n",
       "      <td>0</td>\n",
       "      <td>3</td>\n",
       "      <td>10</td>\n",
       "      <td>9</td>\n",
       "      <td>1</td>\n",
       "      <td>4</td>\n",
       "    </tr>\n",
       "    <tr>\n",
       "      <th>1436</th>\n",
       "      <td>39</td>\n",
       "      <td>No</td>\n",
       "      <td>Non-Travel</td>\n",
       "      <td>105</td>\n",
       "      <td>Research &amp; Development</td>\n",
       "      <td>9</td>\n",
       "      <td>3</td>\n",
       "      <td>Life Sciences</td>\n",
       "      <td>1</td>\n",
       "      <td>1440</td>\n",
       "      <td>...</td>\n",
       "      <td>3</td>\n",
       "      <td>80</td>\n",
       "      <td>0</td>\n",
       "      <td>21</td>\n",
       "      <td>3</td>\n",
       "      <td>2</td>\n",
       "      <td>6</td>\n",
       "      <td>0</td>\n",
       "      <td>1</td>\n",
       "      <td>3</td>\n",
       "    </tr>\n",
       "    <tr>\n",
       "      <th>1442</th>\n",
       "      <td>42</td>\n",
       "      <td>No</td>\n",
       "      <td>Travel_Rarely</td>\n",
       "      <td>300</td>\n",
       "      <td>Research &amp; Development</td>\n",
       "      <td>2</td>\n",
       "      <td>3</td>\n",
       "      <td>Life Sciences</td>\n",
       "      <td>1</td>\n",
       "      <td>1446</td>\n",
       "      <td>...</td>\n",
       "      <td>1</td>\n",
       "      <td>80</td>\n",
       "      <td>0</td>\n",
       "      <td>24</td>\n",
       "      <td>2</td>\n",
       "      <td>2</td>\n",
       "      <td>22</td>\n",
       "      <td>6</td>\n",
       "      <td>4</td>\n",
       "      <td>14</td>\n",
       "    </tr>\n",
       "  </tbody>\n",
       "</table>\n",
       "<p>114 rows × 35 columns</p>\n",
       "</div>"
      ],
      "text/plain": [
       "      Age Attrition     BusinessTravel  DailyRate              Department  \\\n",
       "24     53        No      Travel_Rarely       1282  Research & Development   \n",
       "28     46        No      Travel_Rarely        705                   Sales   \n",
       "44     41       Yes      Travel_Rarely       1360  Research & Development   \n",
       "61     50        No      Travel_Rarely        989  Research & Development   \n",
       "104    59        No         Non-Travel       1420         Human Resources   \n",
       "...   ...       ...                ...        ...                     ...   \n",
       "1373   58        No      Travel_Rarely        605                   Sales   \n",
       "1376   49        No  Travel_Frequently       1064  Research & Development   \n",
       "1400   55        No      Travel_Rarely        189         Human Resources   \n",
       "1436   39        No         Non-Travel        105  Research & Development   \n",
       "1442   42        No      Travel_Rarely        300  Research & Development   \n",
       "\n",
       "      DistanceFromHome Education    EducationField  EmployeeCount  \\\n",
       "24                   5         3             Other              1   \n",
       "28                   2         4         Marketing              1   \n",
       "44                  12         3  Technical Degree              1   \n",
       "61                   7         2           Medical              1   \n",
       "104                  2         4   Human Resources              1   \n",
       "...                ...       ...               ...            ...   \n",
       "1373                21         3     Life Sciences              1   \n",
       "1376                 2         1     Life Sciences              1   \n",
       "1400                26         4   Human Resources              1   \n",
       "1436                 9         3     Life Sciences              1   \n",
       "1442                 2         3     Life Sciences              1   \n",
       "\n",
       "      EmployeeNumber  ... RelationshipSatisfaction StandardHours  \\\n",
       "24                28  ...                        4            80   \n",
       "28                32  ...                        4            80   \n",
       "44                48  ...                        4            80   \n",
       "61                65  ...                        4            80   \n",
       "104              108  ...                        4            80   \n",
       "...              ...  ...                      ...           ...   \n",
       "1373            1377  ...                        3            80   \n",
       "1376            1380  ...                        4            80   \n",
       "1400            1404  ...                        1            80   \n",
       "1436            1440  ...                        3            80   \n",
       "1442            1446  ...                        1            80   \n",
       "\n",
       "      StockOptionLevel TotalWorkingYears TrainingTimesLastYear  \\\n",
       "24                   1                26                     3   \n",
       "28                   0                22                     2   \n",
       "44                   0                23                     0   \n",
       "61                   1                29                     2   \n",
       "104                  1                30                     3   \n",
       "...                ...               ...                   ...   \n",
       "1373                 1                29                     2   \n",
       "1376                 0                28                     3   \n",
       "1400                 1                35                     0   \n",
       "1436                 0                21                     3   \n",
       "1442                 0                24                     2   \n",
       "\n",
       "     WorkLifeBalance YearsAtCompany YearsInCurrentRole  \\\n",
       "24                 2             14                 13   \n",
       "28                 2              2                  2   \n",
       "44                 3             22                 15   \n",
       "61                 2             27                  3   \n",
       "104                3              3                  2   \n",
       "...              ...            ...                ...   \n",
       "1373               2              1                  0   \n",
       "1376               3              5                  4   \n",
       "1400               3             10                  9   \n",
       "1436               2              6                  0   \n",
       "1442               2             22                  6   \n",
       "\n",
       "      YearsSinceLastPromotion  YearsWithCurrManager  \n",
       "24                          4                     8  \n",
       "28                          2                     1  \n",
       "44                         15                     8  \n",
       "61                         13                     8  \n",
       "104                         2                     2  \n",
       "...                       ...                   ...  \n",
       "1373                        0                     0  \n",
       "1376                        4                     3  \n",
       "1400                        1                     4  \n",
       "1436                        1                     3  \n",
       "1442                        4                    14  \n",
       "\n",
       "[114 rows x 35 columns]"
      ]
     },
     "execution_count": 20,
     "metadata": {},
     "output_type": "execute_result"
    }
   ],
   "source": [
    "def outliers(x):\n",
    "  Q1 = x.quantile(0.25)\n",
    "  Q3 = x.quantile(0.75)\n",
    "  IQR = Q3 - Q1\n",
    "\n",
    "  lower_bound = Q1 - (1.5 * IQR)\n",
    "  upper_bound = Q3 + (1.5 * IQR)\n",
    "\n",
    "  return (x < lower_bound) | (x > upper_bound)\n",
    "\n",
    "outliers_mask = outliers(df_clean['MonthlyIncome'])\n",
    "outliers_detected = df_clean[outliers_mask]\n",
    "outliers_detected"
   ]
  },
  {
   "cell_type": "markdown",
   "metadata": {
    "id": "hjo0vAwpbiBA"
   },
   "source": [
    "delete outliers"
   ]
  },
  {
   "cell_type": "code",
   "execution_count": 21,
   "metadata": {
    "colab": {
     "base_uri": "https://localhost:8080/",
     "height": 583
    },
    "id": "MfEhq8BsbgiD",
    "outputId": "bc3329a7-44b6-4152-e688-30e9e8f66d34"
   },
   "outputs": [
    {
     "data": {
      "text/html": [
       "<div>\n",
       "<style scoped>\n",
       "    .dataframe tbody tr th:only-of-type {\n",
       "        vertical-align: middle;\n",
       "    }\n",
       "\n",
       "    .dataframe tbody tr th {\n",
       "        vertical-align: top;\n",
       "    }\n",
       "\n",
       "    .dataframe thead th {\n",
       "        text-align: right;\n",
       "    }\n",
       "</style>\n",
       "<table border=\"1\" class=\"dataframe\">\n",
       "  <thead>\n",
       "    <tr style=\"text-align: right;\">\n",
       "      <th></th>\n",
       "      <th>Age</th>\n",
       "      <th>Attrition</th>\n",
       "      <th>BusinessTravel</th>\n",
       "      <th>DailyRate</th>\n",
       "      <th>Department</th>\n",
       "      <th>DistanceFromHome</th>\n",
       "      <th>Education</th>\n",
       "      <th>EducationField</th>\n",
       "      <th>EmployeeCount</th>\n",
       "      <th>EmployeeNumber</th>\n",
       "      <th>...</th>\n",
       "      <th>RelationshipSatisfaction</th>\n",
       "      <th>StandardHours</th>\n",
       "      <th>StockOptionLevel</th>\n",
       "      <th>TotalWorkingYears</th>\n",
       "      <th>TrainingTimesLastYear</th>\n",
       "      <th>WorkLifeBalance</th>\n",
       "      <th>YearsAtCompany</th>\n",
       "      <th>YearsInCurrentRole</th>\n",
       "      <th>YearsSinceLastPromotion</th>\n",
       "      <th>YearsWithCurrManager</th>\n",
       "    </tr>\n",
       "  </thead>\n",
       "  <tbody>\n",
       "    <tr>\n",
       "      <th>0</th>\n",
       "      <td>41</td>\n",
       "      <td>Yes</td>\n",
       "      <td>Travel_Rarely</td>\n",
       "      <td>1102</td>\n",
       "      <td>Sales</td>\n",
       "      <td>1</td>\n",
       "      <td>2</td>\n",
       "      <td>Life Sciences</td>\n",
       "      <td>1</td>\n",
       "      <td>1</td>\n",
       "      <td>...</td>\n",
       "      <td>1</td>\n",
       "      <td>80</td>\n",
       "      <td>0</td>\n",
       "      <td>8</td>\n",
       "      <td>0</td>\n",
       "      <td>1</td>\n",
       "      <td>6</td>\n",
       "      <td>4</td>\n",
       "      <td>0</td>\n",
       "      <td>5</td>\n",
       "    </tr>\n",
       "    <tr>\n",
       "      <th>1</th>\n",
       "      <td>49</td>\n",
       "      <td>No</td>\n",
       "      <td>Travel_Frequently</td>\n",
       "      <td>279</td>\n",
       "      <td>Research &amp; Development</td>\n",
       "      <td>8</td>\n",
       "      <td>1</td>\n",
       "      <td>Life Sciences</td>\n",
       "      <td>1</td>\n",
       "      <td>2</td>\n",
       "      <td>...</td>\n",
       "      <td>4</td>\n",
       "      <td>80</td>\n",
       "      <td>1</td>\n",
       "      <td>10</td>\n",
       "      <td>3</td>\n",
       "      <td>3</td>\n",
       "      <td>10</td>\n",
       "      <td>7</td>\n",
       "      <td>1</td>\n",
       "      <td>7</td>\n",
       "    </tr>\n",
       "    <tr>\n",
       "      <th>2</th>\n",
       "      <td>37</td>\n",
       "      <td>Yes</td>\n",
       "      <td>Travel_Rarely</td>\n",
       "      <td>1373</td>\n",
       "      <td>Research &amp; Development</td>\n",
       "      <td>2</td>\n",
       "      <td>2</td>\n",
       "      <td>Other</td>\n",
       "      <td>1</td>\n",
       "      <td>4</td>\n",
       "      <td>...</td>\n",
       "      <td>2</td>\n",
       "      <td>80</td>\n",
       "      <td>0</td>\n",
       "      <td>7</td>\n",
       "      <td>3</td>\n",
       "      <td>3</td>\n",
       "      <td>0</td>\n",
       "      <td>0</td>\n",
       "      <td>0</td>\n",
       "      <td>0</td>\n",
       "    </tr>\n",
       "    <tr>\n",
       "      <th>3</th>\n",
       "      <td>33</td>\n",
       "      <td>No</td>\n",
       "      <td>Travel_Frequently</td>\n",
       "      <td>1392</td>\n",
       "      <td>Research &amp; Development</td>\n",
       "      <td>3</td>\n",
       "      <td>4</td>\n",
       "      <td>Life Sciences</td>\n",
       "      <td>1</td>\n",
       "      <td>5</td>\n",
       "      <td>...</td>\n",
       "      <td>3</td>\n",
       "      <td>80</td>\n",
       "      <td>0</td>\n",
       "      <td>8</td>\n",
       "      <td>3</td>\n",
       "      <td>3</td>\n",
       "      <td>8</td>\n",
       "      <td>7</td>\n",
       "      <td>3</td>\n",
       "      <td>0</td>\n",
       "    </tr>\n",
       "    <tr>\n",
       "      <th>4</th>\n",
       "      <td>27</td>\n",
       "      <td>No</td>\n",
       "      <td>Travel_Rarely</td>\n",
       "      <td>591</td>\n",
       "      <td>Research &amp; Development</td>\n",
       "      <td>2</td>\n",
       "      <td>1</td>\n",
       "      <td>Medical</td>\n",
       "      <td>1</td>\n",
       "      <td>7</td>\n",
       "      <td>...</td>\n",
       "      <td>4</td>\n",
       "      <td>80</td>\n",
       "      <td>1</td>\n",
       "      <td>6</td>\n",
       "      <td>3</td>\n",
       "      <td>3</td>\n",
       "      <td>2</td>\n",
       "      <td>2</td>\n",
       "      <td>2</td>\n",
       "      <td>2</td>\n",
       "    </tr>\n",
       "    <tr>\n",
       "      <th>...</th>\n",
       "      <td>...</td>\n",
       "      <td>...</td>\n",
       "      <td>...</td>\n",
       "      <td>...</td>\n",
       "      <td>...</td>\n",
       "      <td>...</td>\n",
       "      <td>...</td>\n",
       "      <td>...</td>\n",
       "      <td>...</td>\n",
       "      <td>...</td>\n",
       "      <td>...</td>\n",
       "      <td>...</td>\n",
       "      <td>...</td>\n",
       "      <td>...</td>\n",
       "      <td>...</td>\n",
       "      <td>...</td>\n",
       "      <td>...</td>\n",
       "      <td>...</td>\n",
       "      <td>...</td>\n",
       "      <td>...</td>\n",
       "      <td>...</td>\n",
       "    </tr>\n",
       "    <tr>\n",
       "      <th>1469</th>\n",
       "      <td>37</td>\n",
       "      <td>No</td>\n",
       "      <td>Travel_Rarely</td>\n",
       "      <td>866</td>\n",
       "      <td>Sales</td>\n",
       "      <td>5</td>\n",
       "      <td>3</td>\n",
       "      <td>Medical</td>\n",
       "      <td>1</td>\n",
       "      <td>1473</td>\n",
       "      <td>...</td>\n",
       "      <td>4</td>\n",
       "      <td>80</td>\n",
       "      <td>0</td>\n",
       "      <td>6</td>\n",
       "      <td>4</td>\n",
       "      <td>3</td>\n",
       "      <td>5</td>\n",
       "      <td>4</td>\n",
       "      <td>1</td>\n",
       "      <td>3</td>\n",
       "    </tr>\n",
       "    <tr>\n",
       "      <th>1470</th>\n",
       "      <td>37</td>\n",
       "      <td>No</td>\n",
       "      <td>Travel_Rarely</td>\n",
       "      <td>1084</td>\n",
       "      <td>Research &amp; Development</td>\n",
       "      <td>13</td>\n",
       "      <td>2</td>\n",
       "      <td>Medical</td>\n",
       "      <td>1</td>\n",
       "      <td>1474</td>\n",
       "      <td>...</td>\n",
       "      <td>3</td>\n",
       "      <td>80</td>\n",
       "      <td>2</td>\n",
       "      <td>5</td>\n",
       "      <td>3</td>\n",
       "      <td>3</td>\n",
       "      <td>4</td>\n",
       "      <td>2</td>\n",
       "      <td>1</td>\n",
       "      <td>3</td>\n",
       "    </tr>\n",
       "    <tr>\n",
       "      <th>1471</th>\n",
       "      <td>37</td>\n",
       "      <td>Yes</td>\n",
       "      <td>Travel_Rarely</td>\n",
       "      <td>240</td>\n",
       "      <td>Human Resources</td>\n",
       "      <td>22</td>\n",
       "      <td>1</td>\n",
       "      <td>Human Resources</td>\n",
       "      <td>1</td>\n",
       "      <td>1475</td>\n",
       "      <td>...</td>\n",
       "      <td>3</td>\n",
       "      <td>80</td>\n",
       "      <td>1</td>\n",
       "      <td>1</td>\n",
       "      <td>2</td>\n",
       "      <td>3</td>\n",
       "      <td>1</td>\n",
       "      <td>0</td>\n",
       "      <td>0</td>\n",
       "      <td>0</td>\n",
       "    </tr>\n",
       "    <tr>\n",
       "      <th>1472</th>\n",
       "      <td>37</td>\n",
       "      <td>No</td>\n",
       "      <td>Travel_Rarely</td>\n",
       "      <td>1339</td>\n",
       "      <td>Research &amp; Development</td>\n",
       "      <td>7</td>\n",
       "      <td>3</td>\n",
       "      <td>Life Sciences</td>\n",
       "      <td>1</td>\n",
       "      <td>1476</td>\n",
       "      <td>...</td>\n",
       "      <td>3</td>\n",
       "      <td>80</td>\n",
       "      <td>1</td>\n",
       "      <td>25</td>\n",
       "      <td>2</td>\n",
       "      <td>3</td>\n",
       "      <td>1</td>\n",
       "      <td>0</td>\n",
       "      <td>0</td>\n",
       "      <td>0</td>\n",
       "    </tr>\n",
       "    <tr>\n",
       "      <th>1473</th>\n",
       "      <td>37</td>\n",
       "      <td>No</td>\n",
       "      <td>Travel_Rarely</td>\n",
       "      <td>1396</td>\n",
       "      <td>Research &amp; Development</td>\n",
       "      <td>5</td>\n",
       "      <td>2</td>\n",
       "      <td>Life Sciences</td>\n",
       "      <td>1</td>\n",
       "      <td>1477</td>\n",
       "      <td>...</td>\n",
       "      <td>4</td>\n",
       "      <td>80</td>\n",
       "      <td>0</td>\n",
       "      <td>16</td>\n",
       "      <td>3</td>\n",
       "      <td>4</td>\n",
       "      <td>13</td>\n",
       "      <td>11</td>\n",
       "      <td>3</td>\n",
       "      <td>7</td>\n",
       "    </tr>\n",
       "  </tbody>\n",
       "</table>\n",
       "<p>1359 rows × 35 columns</p>\n",
       "</div>"
      ],
      "text/plain": [
       "      Age Attrition     BusinessTravel  DailyRate              Department  \\\n",
       "0      41       Yes      Travel_Rarely       1102                   Sales   \n",
       "1      49        No  Travel_Frequently        279  Research & Development   \n",
       "2      37       Yes      Travel_Rarely       1373  Research & Development   \n",
       "3      33        No  Travel_Frequently       1392  Research & Development   \n",
       "4      27        No      Travel_Rarely        591  Research & Development   \n",
       "...   ...       ...                ...        ...                     ...   \n",
       "1469   37        No      Travel_Rarely        866                   Sales   \n",
       "1470   37        No      Travel_Rarely       1084  Research & Development   \n",
       "1471   37       Yes      Travel_Rarely        240         Human Resources   \n",
       "1472   37        No      Travel_Rarely       1339  Research & Development   \n",
       "1473   37        No      Travel_Rarely       1396  Research & Development   \n",
       "\n",
       "      DistanceFromHome Education   EducationField  EmployeeCount  \\\n",
       "0                    1         2    Life Sciences              1   \n",
       "1                    8         1    Life Sciences              1   \n",
       "2                    2         2            Other              1   \n",
       "3                    3         4    Life Sciences              1   \n",
       "4                    2         1          Medical              1   \n",
       "...                ...       ...              ...            ...   \n",
       "1469                 5         3          Medical              1   \n",
       "1470                13         2          Medical              1   \n",
       "1471                22         1  Human Resources              1   \n",
       "1472                 7         3    Life Sciences              1   \n",
       "1473                 5         2    Life Sciences              1   \n",
       "\n",
       "      EmployeeNumber  ... RelationshipSatisfaction StandardHours  \\\n",
       "0                  1  ...                        1            80   \n",
       "1                  2  ...                        4            80   \n",
       "2                  4  ...                        2            80   \n",
       "3                  5  ...                        3            80   \n",
       "4                  7  ...                        4            80   \n",
       "...              ...  ...                      ...           ...   \n",
       "1469            1473  ...                        4            80   \n",
       "1470            1474  ...                        3            80   \n",
       "1471            1475  ...                        3            80   \n",
       "1472            1476  ...                        3            80   \n",
       "1473            1477  ...                        4            80   \n",
       "\n",
       "      StockOptionLevel TotalWorkingYears TrainingTimesLastYear  \\\n",
       "0                    0                 8                     0   \n",
       "1                    1                10                     3   \n",
       "2                    0                 7                     3   \n",
       "3                    0                 8                     3   \n",
       "4                    1                 6                     3   \n",
       "...                ...               ...                   ...   \n",
       "1469                 0                 6                     4   \n",
       "1470                 2                 5                     3   \n",
       "1471                 1                 1                     2   \n",
       "1472                 1                25                     2   \n",
       "1473                 0                16                     3   \n",
       "\n",
       "     WorkLifeBalance YearsAtCompany YearsInCurrentRole  \\\n",
       "0                  1              6                  4   \n",
       "1                  3             10                  7   \n",
       "2                  3              0                  0   \n",
       "3                  3              8                  7   \n",
       "4                  3              2                  2   \n",
       "...              ...            ...                ...   \n",
       "1469               3              5                  4   \n",
       "1470               3              4                  2   \n",
       "1471               3              1                  0   \n",
       "1472               3              1                  0   \n",
       "1473               4             13                 11   \n",
       "\n",
       "      YearsSinceLastPromotion  YearsWithCurrManager  \n",
       "0                           0                     5  \n",
       "1                           1                     7  \n",
       "2                           0                     0  \n",
       "3                           3                     0  \n",
       "4                           2                     2  \n",
       "...                       ...                   ...  \n",
       "1469                        1                     3  \n",
       "1470                        1                     3  \n",
       "1471                        0                     0  \n",
       "1472                        0                     0  \n",
       "1473                        3                     7  \n",
       "\n",
       "[1359 rows x 35 columns]"
      ]
     },
     "execution_count": 21,
     "metadata": {},
     "output_type": "execute_result"
    }
   ],
   "source": [
    "df_clean = df_clean[~outliers_mask]\n",
    "df_clean"
   ]
  },
  {
   "cell_type": "code",
   "execution_count": 22,
   "metadata": {
    "colab": {
     "base_uri": "https://localhost:8080/",
     "height": 430
    },
    "id": "JmjafP1L1m4Y",
    "outputId": "8060004c-6de7-4bb4-fde9-788e5a0ee3ce"
   },
   "outputs": [
    {
     "data": {
      "image/png": "[encoded data removed]",
      "text/plain": [
       "<Figure size 500x500 with 1 Axes>"
      ]
     },
     "metadata": {},
     "output_type": "display_data"
    }
   ],
   "source": [
    "plt.figure(figsize=(5, 5))\n",
    "plt.boxplot(df_clean['MonthlyIncome'])\n",
    "plt.show()"
   ]
  },
  {
   "cell_type": "markdown",
   "metadata": {
    "id": "Bl1Kn_1QRdOY"
   },
   "source": [
    "## Dropping Unnecessary Column"
   ]
  },
  {
   "cell_type": "code",
   "execution_count": 23,
   "metadata": {
    "id": "zhIodzmpSgvp"
   },
   "outputs": [],
   "source": [
    "df_clean = df_clean.drop(columns = ['EmployeeCount', 'Over18','Education', 'EducationField',\n",
    "       'EnvironmentSatisfaction', 'HourlyRate', 'JobInvolvement',\n",
    "       'JobLevel', 'MonthlyRate', 'NumCompaniesWorked',\n",
    "       'PercentSalaryHike', 'PerformanceRating', 'RelationshipSatisfaction',\n",
    "       'StandardHours', 'StockOptionLevel',\n",
    "       'TrainingTimesLastYear', 'WorkLifeBalance', 'YearsAtCompany',\n",
    "       'YearsInCurrentRole', 'YearsSinceLastPromotion',\n",
    "       'YearsWithCurrManager'])"
   ]
  },
  {
   "cell_type": "code",
   "execution_count": 24,
   "metadata": {
    "colab": {
     "base_uri": "https://localhost:8080/"
    },
    "id": "PKOiV0CZTVvB",
    "outputId": "b710c600-79e5-4f56-962e-e3b1beb8e667"
   },
   "outputs": [
    {
     "data": {
      "text/plain": [
       "Index(['Age', 'Attrition', 'BusinessTravel', 'DailyRate', 'Department',\n",
       "       'DistanceFromHome', 'EmployeeNumber', 'Gender', 'JobRole',\n",
       "       'JobSatisfaction', 'MaritalStatus', 'MonthlyIncome', 'OverTime',\n",
       "       'TotalWorkingYears'],\n",
       "      dtype='object')"
      ]
     },
     "execution_count": 24,
     "metadata": {},
     "output_type": "execute_result"
    }
   ],
   "source": [
    "df_clean.columns"
   ]
  },
  {
   "cell_type": "markdown",
   "metadata": {
    "id": "AGcC_QwM8B8X"
   },
   "source": [
    "## Label Encoding"
   ]
  },
  {
   "cell_type": "markdown",
   "metadata": {
    "id": "_w23MVOc8LGN"
   },
   "source": [
    "encoding job satisfaction categories into descriptive labels"
   ]
  },
  {
   "cell_type": "code",
   "execution_count": 25,
   "metadata": {
    "colab": {
     "base_uri": "https://localhost:8080/",
     "height": 583
    },
    "id": "KjzDyvH28KJu",
    "outputId": "50ed7f26-f501-4727-9bd5-67fbe3e6747c"
   },
   "outputs": [
    {
     "data": {
      "text/plain": [
       "['Very Satisfied', 'Dissatisfied', 'Satisfied', 'Very Dissatisfied']\n",
       "Categories (4, object): ['Very Dissatisfied', 'Dissatisfied', 'Satisfied', 'Very Satisfied']"
      ]
     },
     "execution_count": 25,
     "metadata": {},
     "output_type": "execute_result"
    }
   ],
   "source": [
    "satisfaction_map = {\n",
    "    1: 'Very Dissatisfied',\n",
    "    2: 'Dissatisfied',\n",
    "    3: 'Satisfied',\n",
    "    4: 'Very Satisfied'\n",
    "}\n",
    "\n",
    "df_clean['Job_Satisfaction_Cat'] = df_clean['JobSatisfaction'].map(satisfaction_map)\n",
    "df_clean['Job_Satisfaction_Cat'].unique()"
   ]
  },
  {
   "cell_type": "markdown",
   "metadata": {
    "id": "7e8NtNekf2E6"
   },
   "source": [
    "# Exploratory Data Analysis (EDA)"
   ]
  },
  {
   "cell_type": "code",
   "execution_count": 26,
   "metadata": {
    "colab": {
     "base_uri": "https://localhost:8080/"
    },
    "id": "A1A2qnjegW7a",
    "outputId": "de58dd81-bc77-418f-b47a-e4ce33515e53"
   },
   "outputs": [
    {
     "name": "stdout",
     "output_type": "stream",
     "text": [
      "<class 'pandas.core.frame.DataFrame'>\n",
      "Index: 1359 entries, 0 to 1473\n",
      "Data columns (total 15 columns):\n",
      " #   Column                Non-Null Count  Dtype   \n",
      "---  ------                --------------  -----   \n",
      " 0   Age                   1359 non-null   Int64   \n",
      " 1   Attrition             1359 non-null   object  \n",
      " 2   BusinessTravel        1359 non-null   object  \n",
      " 3   DailyRate             1359 non-null   int64   \n",
      " 4   Department            1359 non-null   object  \n",
      " 5   DistanceFromHome      1359 non-null   int64   \n",
      " 6   EmployeeNumber        1359 non-null   int64   \n",
      " 7   Gender                1359 non-null   object  \n",
      " 8   JobRole               1359 non-null   object  \n",
      " 9   JobSatisfaction       1359 non-null   category\n",
      " 10  MaritalStatus         1359 non-null   object  \n",
      " 11  MonthlyIncome         1359 non-null   int64   \n",
      " 12  OverTime              1359 non-null   object  \n",
      " 13  TotalWorkingYears     1359 non-null   int64   \n",
      " 14  Job_Satisfaction_Cat  1359 non-null   category\n",
      "dtypes: Int64(1), category(2), int64(5), object(7)\n",
      "memory usage: 153.0+ KB\n"
     ]
    }
   ],
   "source": [
    "df_clean.info()"
   ]
  },
  {
   "cell_type": "markdown",
   "metadata": {},
   "source": [
    "## Q1. What is The Overall Attrition Rate in The Company?"
   ]
  },
  {
   "cell_type": "code",
   "execution_count": 27,
   "metadata": {
    "colab": {
     "base_uri": "https://localhost:8080/",
     "height": 125
    },
    "id": "ARMFfZrth2LB",
    "outputId": "0674455a-8d97-4c93-b515-f35ff319cab6"
   },
   "outputs": [
    {
     "data": {
      "text/html": [
       "<div>\n",
       "<style scoped>\n",
       "    .dataframe tbody tr th:only-of-type {\n",
       "        vertical-align: middle;\n",
       "    }\n",
       "\n",
       "    .dataframe tbody tr th {\n",
       "        vertical-align: top;\n",
       "    }\n",
       "\n",
       "    .dataframe thead th {\n",
       "        text-align: right;\n",
       "    }\n",
       "</style>\n",
       "<table border=\"1\" class=\"dataframe\">\n",
       "  <thead>\n",
       "    <tr style=\"text-align: right;\">\n",
       "      <th></th>\n",
       "      <th>Attrition</th>\n",
       "      <th>count</th>\n",
       "    </tr>\n",
       "  </thead>\n",
       "  <tbody>\n",
       "    <tr>\n",
       "      <th>0</th>\n",
       "      <td>No</td>\n",
       "      <td>1126</td>\n",
       "    </tr>\n",
       "    <tr>\n",
       "      <th>1</th>\n",
       "      <td>Yes</td>\n",
       "      <td>233</td>\n",
       "    </tr>\n",
       "  </tbody>\n",
       "</table>\n",
       "</div>"
      ],
      "text/plain": [
       "  Attrition  count\n",
       "0        No   1126\n",
       "1       Yes    233"
      ]
     },
     "execution_count": 27,
     "metadata": {},
     "output_type": "execute_result"
    }
   ],
   "source": [
    "attrition = df_clean['Attrition'].value_counts().reset_index()\n",
    "attrition"
   ]
  },
  {
   "cell_type": "code",
   "execution_count": 28,
   "metadata": {},
   "outputs": [
    {
     "data": {
      "image/png": "[encoded data removed]",
      "text/plain": [
       "<Figure size 400x300 with 1 Axes>"
      ]
     },
     "metadata": {},
     "output_type": "display_data"
    }
   ],
   "source": [
    "import seaborn as sns\n",
    "plt.figure(figsize=(4, 3))\n",
    "sns.countplot(data = df_clean, x = 'Attrition')\n",
    "plt.title('Attrition Status Count')\n",
    "plt.show()"
   ]
  },
  {
   "cell_type": "code",
   "execution_count": 29,
   "metadata": {
    "colab": {
     "base_uri": "https://localhost:8080/"
    },
    "id": "qerx5NZbiaS2",
    "outputId": "180f3803-91a1-47b7-cd4c-9dce1188d185"
   },
   "outputs": [
    {
     "name": "stdout",
     "output_type": "stream",
     "text": [
      "Attrition Rate (Yes) = 17.14%\n"
     ]
    }
   ],
   "source": [
    "#attrition rate\n",
    "att_yes = df_clean['Attrition'].value_counts()['Yes']\n",
    "att_total = df_clean['Attrition'].count()\n",
    "\n",
    "attrition_rate = (att_yes/att_total) * 100\n",
    "\n",
    "print(f'Attrition Rate (Yes) = {attrition_rate:.2f}%')"
   ]
  },
  {
   "cell_type": "code",
   "execution_count": 30,
   "metadata": {},
   "outputs": [
    {
     "data": {
      "image/png": "[encoded data removed]",
      "text/plain": [
       "<Figure size 400x400 with 1 Axes>"
      ]
     },
     "metadata": {},
     "output_type": "display_data"
    }
   ],
   "source": [
    "plt.figure(figsize = (4,4))\n",
    "plt.pie(attrition['count'], labels = attrition['Attrition'], autopct='%1.1f%%', colors=sns.color_palette('pastel'))\n",
    "plt.title('Attrition Status Distribution')\n",
    "plt.show()"
   ]
  },
  {
   "cell_type": "markdown",
   "metadata": {},
   "source": [
    "**Question 1 Conclusion**: Overall attrition rate in this company is 17.1%"
   ]
  },
  {
   "cell_type": "markdown",
   "metadata": {
    "id": "ZD0n6OUBcGf9"
   },
   "source": [
    "## Q2. Which Job Roles Have The Highest Attrition Rates?"
   ]
  },
  {
   "cell_type": "code",
   "execution_count": 31,
   "metadata": {
    "colab": {
     "base_uri": "https://localhost:8080/",
     "height": 241
    },
    "id": "Lu5kVsaET2Oz",
    "outputId": "40f417d2-bf65-4c80-9cf7-2aed06264171"
   },
   "outputs": [
    {
     "data": {
      "text/plain": [
       "0    1\n",
       "1    0\n",
       "2    1\n",
       "3    0\n",
       "4    0\n",
       "Name: Attrition_Numeric, dtype: int64"
      ]
     },
     "execution_count": 31,
     "metadata": {},
     "output_type": "execute_result"
    }
   ],
   "source": [
    "#Encoded Attrition Category\n",
    "df_clean['Attrition_Numeric'] = df_clean['Attrition'].apply(lambda x: 1 if x =='Yes' else 0)\n",
    "df_clean['Attrition_Numeric'].head()"
   ]
  },
  {
   "cell_type": "code",
   "execution_count": 32,
   "metadata": {
    "colab": {
     "base_uri": "https://localhost:8080/",
     "height": 332
    },
    "id": "DX6uUsB2Y9Dn",
    "outputId": "87d6e8a1-9b27-41d4-95c8-973e6c181b4c"
   },
   "outputs": [
    {
     "data": {
      "text/html": [
       "<div>\n",
       "<style scoped>\n",
       "    .dataframe tbody tr th:only-of-type {\n",
       "        vertical-align: middle;\n",
       "    }\n",
       "\n",
       "    .dataframe tbody tr th {\n",
       "        vertical-align: top;\n",
       "    }\n",
       "\n",
       "    .dataframe thead th {\n",
       "        text-align: right;\n",
       "    }\n",
       "</style>\n",
       "<table border=\"1\" class=\"dataframe\">\n",
       "  <thead>\n",
       "    <tr style=\"text-align: right;\">\n",
       "      <th></th>\n",
       "      <th>JobRole</th>\n",
       "      <th>Attrition_Rate</th>\n",
       "    </tr>\n",
       "  </thead>\n",
       "  <tbody>\n",
       "    <tr>\n",
       "      <th>8</th>\n",
       "      <td>Sales Representative</td>\n",
       "      <td>0.397590</td>\n",
       "    </tr>\n",
       "    <tr>\n",
       "      <th>1</th>\n",
       "      <td>Human Resources</td>\n",
       "      <td>0.245283</td>\n",
       "    </tr>\n",
       "    <tr>\n",
       "      <th>2</th>\n",
       "      <td>Laboratory Technician</td>\n",
       "      <td>0.239382</td>\n",
       "    </tr>\n",
       "    <tr>\n",
       "      <th>7</th>\n",
       "      <td>Sales Executive</td>\n",
       "      <td>0.174312</td>\n",
       "    </tr>\n",
       "    <tr>\n",
       "      <th>6</th>\n",
       "      <td>Research Scientist</td>\n",
       "      <td>0.160410</td>\n",
       "    </tr>\n",
       "    <tr>\n",
       "      <th>3</th>\n",
       "      <td>Manager</td>\n",
       "      <td>0.071429</td>\n",
       "    </tr>\n",
       "    <tr>\n",
       "      <th>4</th>\n",
       "      <td>Manufacturing Director</td>\n",
       "      <td>0.068966</td>\n",
       "    </tr>\n",
       "    <tr>\n",
       "      <th>0</th>\n",
       "      <td>Healthcare Representative</td>\n",
       "      <td>0.068702</td>\n",
       "    </tr>\n",
       "    <tr>\n",
       "      <th>5</th>\n",
       "      <td>Research Director</td>\n",
       "      <td>0.000000</td>\n",
       "    </tr>\n",
       "  </tbody>\n",
       "</table>\n",
       "</div>"
      ],
      "text/plain": [
       "                     JobRole  Attrition_Rate\n",
       "8       Sales Representative        0.397590\n",
       "1            Human Resources        0.245283\n",
       "2      Laboratory Technician        0.239382\n",
       "7            Sales Executive        0.174312\n",
       "6         Research Scientist        0.160410\n",
       "3                    Manager        0.071429\n",
       "4     Manufacturing Director        0.068966\n",
       "0  Healthcare Representative        0.068702\n",
       "5          Research Director        0.000000"
      ]
     },
     "execution_count": 32,
     "metadata": {},
     "output_type": "execute_result"
    }
   ],
   "source": [
    "attrition_role = df_clean.groupby('JobRole')['Attrition_Numeric'].mean().reset_index()\n",
    "attrition_role.rename(columns = {'Attrition_Numeric' : 'Attrition_Rate'}, inplace = True)\n",
    "\n",
    "attrition_role.sort_values('Attrition_Rate', ascending = False)"
   ]
  },
  {
   "cell_type": "code",
   "execution_count": 33,
   "metadata": {
    "colab": {
     "base_uri": "https://localhost:8080/",
     "height": 356
    },
    "id": "CcJh1KSKcjxI",
    "outputId": "7a085efd-74dc-4ad3-e06d-131b85c19037"
   },
   "outputs": [
    {
     "data": {
      "image/png": "[encoded data removed]",
      "text/plain": [
       "<Figure size 600x400 with 1 Axes>"
      ]
     },
     "metadata": {},
     "output_type": "display_data"
    }
   ],
   "source": [
    "import matplotlib.pyplot as plt\n",
    "\n",
    "fig = plt.figure(figsize = (6,4))\n",
    "bars = plt.barh(attrition_role['JobRole'], attrition_role['Attrition_Rate'],\n",
    "         color =plt.get_cmap('Dark2').colors)\n",
    "plt.title('Attrition Rate by Job Role')\n",
    "\n",
    "for bar in bars:\n",
    "    width = bar.get_width() #nilai attrition rate\n",
    "    plt.text(width + 0.01, bar.get_y() + bar.get_height()/2, #posisi horizontal, vertikal\n",
    "             f'{width:.2f}',\n",
    "             va='center',\n",
    "             ha='left',\n",
    "             fontsize=8)"
   ]
  },
  {
   "cell_type": "markdown",
   "metadata": {
    "id": "Ik7UUmx3sH0Z"
   },
   "source": [
    "**Question 2 Conclusion**: From the bar chart, **Sales Representative have the highest attrition rate**, with a significant **40%** leaving the job, followed by Laboratory Technician (25%) and Human Resources (24%)."
   ]
  },
  {
   "cell_type": "markdown",
   "metadata": {},
   "source": [
    "## Q3. What Factors are Associated with High Attrition Rates in Job Roles with the Highest Attrition Rates?"
   ]
  },
  {
   "cell_type": "markdown",
   "metadata": {
    "id": "ajwmEm5wrZUy"
   },
   "source": [
    "#### Job Satisfaction and Job Role vs Attrition Rate"
   ]
  },
  {
   "cell_type": "code",
   "execution_count": 34,
   "metadata": {
    "colab": {
     "base_uri": "https://localhost:8080/",
     "height": 363
    },
    "id": "Fypd5mNJkF5a",
    "outputId": "a0b08e7b-4700-4aec-bf9f-d765427fa6af"
   },
   "outputs": [
    {
     "name": "stderr",
     "output_type": "stream",
     "text": [
      "C:\\Users\\ASUS\\AppData\\Local\\Temp\\ipykernel_11852\\1255076403.py:1: FutureWarning: The default of observed=False is deprecated and will be changed to True in a future version of pandas. Pass observed=False to retain current behavior or observed=True to adopt the future default and silence this warning.\n",
      "  role_satis = df_clean.groupby(['JobRole', 'Job_Satisfaction_Cat'])['Attrition_Numeric'].mean().reset_index()\n"
     ]
    },
    {
     "data": {
      "text/html": [
       "<div>\n",
       "<style scoped>\n",
       "    .dataframe tbody tr th:only-of-type {\n",
       "        vertical-align: middle;\n",
       "    }\n",
       "\n",
       "    .dataframe tbody tr th {\n",
       "        vertical-align: top;\n",
       "    }\n",
       "\n",
       "    .dataframe thead th {\n",
       "        text-align: right;\n",
       "    }\n",
       "</style>\n",
       "<table border=\"1\" class=\"dataframe\">\n",
       "  <thead>\n",
       "    <tr style=\"text-align: right;\">\n",
       "      <th></th>\n",
       "      <th>JobRole</th>\n",
       "      <th>Job_Satisfaction_Cat</th>\n",
       "      <th>Attrition_Rate</th>\n",
       "    </tr>\n",
       "  </thead>\n",
       "  <tbody>\n",
       "    <tr>\n",
       "      <th>32</th>\n",
       "      <td>Sales Representative</td>\n",
       "      <td>Very Dissatisfied</td>\n",
       "      <td>0.583333</td>\n",
       "    </tr>\n",
       "    <tr>\n",
       "      <th>4</th>\n",
       "      <td>Human Resources</td>\n",
       "      <td>Very Dissatisfied</td>\n",
       "      <td>0.500000</td>\n",
       "    </tr>\n",
       "    <tr>\n",
       "      <th>33</th>\n",
       "      <td>Sales Representative</td>\n",
       "      <td>Dissatisfied</td>\n",
       "      <td>0.476190</td>\n",
       "    </tr>\n",
       "    <tr>\n",
       "      <th>8</th>\n",
       "      <td>Laboratory Technician</td>\n",
       "      <td>Very Dissatisfied</td>\n",
       "      <td>0.357143</td>\n",
       "    </tr>\n",
       "    <tr>\n",
       "      <th>34</th>\n",
       "      <td>Sales Representative</td>\n",
       "      <td>Satisfied</td>\n",
       "      <td>0.333333</td>\n",
       "    </tr>\n",
       "  </tbody>\n",
       "</table>\n",
       "</div>"
      ],
      "text/plain": [
       "                  JobRole Job_Satisfaction_Cat  Attrition_Rate\n",
       "32   Sales Representative    Very Dissatisfied        0.583333\n",
       "4         Human Resources    Very Dissatisfied        0.500000\n",
       "33   Sales Representative         Dissatisfied        0.476190\n",
       "8   Laboratory Technician    Very Dissatisfied        0.357143\n",
       "34   Sales Representative            Satisfied        0.333333"
      ]
     },
     "execution_count": 34,
     "metadata": {},
     "output_type": "execute_result"
    }
   ],
   "source": [
    "role_satis = df_clean.groupby(['JobRole', 'Job_Satisfaction_Cat'])['Attrition_Numeric'].mean().reset_index()\n",
    "role_satis.rename(columns = {'Attrition_Numeric' : 'Attrition_Rate'}, inplace = True)\n",
    "role_satis.sort_values('Attrition_Rate', ascending = False).head(5)"
   ]
  },
  {
   "cell_type": "code",
   "execution_count": 35,
   "metadata": {},
   "outputs": [
    {
     "data": {
      "image/png": "[encoded data removed]",
      "text/plain": [
       "<Figure size 1000x500 with 1 Axes>"
      ]
     },
     "metadata": {},
     "output_type": "display_data"
    }
   ],
   "source": [
    "plt.figure(figsize=(10, 5))\n",
    "sns.barplot(orient = 'h',data = role_satis, y = 'JobRole', x = 'Attrition_Rate', hue = 'Job_Satisfaction_Cat', palette = 'RdYlGn')\n",
    "plt.title('Attrition Rate by Job Role and Job Satisfaction')\n",
    "plt.ylabel('Job Role')\n",
    "plt.xlabel('Attrition Rate')\n",
    "plt.legend(title = 'Job Satisfaction') \n",
    "\n",
    "plt.tight_layout()\n",
    "plt.show()"
   ]
  },
  {
   "cell_type": "markdown",
   "metadata": {
    "id": "mGglQANJtkeK"
   },
   "source": [
    "- From this summary, we observe that the **top 3 job roles with the highest attrition rates** (Sales Rep, Laboratory Tech, Human Resources) also have the lowest job satisfaction **(Very Dissatisfied)**.\n",
    "- This suggests that **dissatisfaction with their jobs may be a key factor contributing to the high attrition rates** in these roles."
   ]
  },
  {
   "cell_type": "markdown",
   "metadata": {
    "id": "TA7oGUKcvEoL"
   },
   "source": [
    "#### Over Time and Job Role vs Attrition Rate"
   ]
  },
  {
   "cell_type": "code",
   "execution_count": 36,
   "metadata": {
    "colab": {
     "base_uri": "https://localhost:8080/",
     "height": 363
    },
    "id": "JTI909tOuT8K",
    "outputId": "6e33f197-8667-437f-bb05-9662d278e50f"
   },
   "outputs": [
    {
     "data": {
      "text/html": [
       "<div>\n",
       "<style scoped>\n",
       "    .dataframe tbody tr th:only-of-type {\n",
       "        vertical-align: middle;\n",
       "    }\n",
       "\n",
       "    .dataframe tbody tr th {\n",
       "        vertical-align: top;\n",
       "    }\n",
       "\n",
       "    .dataframe thead th {\n",
       "        text-align: right;\n",
       "    }\n",
       "</style>\n",
       "<table border=\"1\" class=\"dataframe\">\n",
       "  <thead>\n",
       "    <tr style=\"text-align: right;\">\n",
       "      <th></th>\n",
       "      <th>JobRole</th>\n",
       "      <th>OverTime</th>\n",
       "      <th>Attrition_Rate</th>\n",
       "    </tr>\n",
       "  </thead>\n",
       "  <tbody>\n",
       "    <tr>\n",
       "      <th>17</th>\n",
       "      <td>Sales Representative</td>\n",
       "      <td>Yes</td>\n",
       "      <td>0.666667</td>\n",
       "    </tr>\n",
       "    <tr>\n",
       "      <th>5</th>\n",
       "      <td>Laboratory Technician</td>\n",
       "      <td>Yes</td>\n",
       "      <td>0.500000</td>\n",
       "    </tr>\n",
       "    <tr>\n",
       "      <th>3</th>\n",
       "      <td>Human Resources</td>\n",
       "      <td>Yes</td>\n",
       "      <td>0.384615</td>\n",
       "    </tr>\n",
       "    <tr>\n",
       "      <th>13</th>\n",
       "      <td>Research Scientist</td>\n",
       "      <td>Yes</td>\n",
       "      <td>0.340206</td>\n",
       "    </tr>\n",
       "    <tr>\n",
       "      <th>15</th>\n",
       "      <td>Sales Executive</td>\n",
       "      <td>Yes</td>\n",
       "      <td>0.329787</td>\n",
       "    </tr>\n",
       "  </tbody>\n",
       "</table>\n",
       "</div>"
      ],
      "text/plain": [
       "                  JobRole OverTime  Attrition_Rate\n",
       "17   Sales Representative      Yes        0.666667\n",
       "5   Laboratory Technician      Yes        0.500000\n",
       "3         Human Resources      Yes        0.384615\n",
       "13     Research Scientist      Yes        0.340206\n",
       "15        Sales Executive      Yes        0.329787"
      ]
     },
     "execution_count": 36,
     "metadata": {},
     "output_type": "execute_result"
    }
   ],
   "source": [
    "role_time = df_clean.groupby(['JobRole', 'OverTime'])['Attrition_Numeric'].mean().reset_index()\n",
    "role_time.rename(columns = {'Attrition_Numeric' : 'Attrition_Rate'}, inplace = True)\n",
    "role_time.sort_values('Attrition_Rate', ascending = False).head(5)"
   ]
  },
  {
   "cell_type": "code",
   "execution_count": 37,
   "metadata": {
    "colab": {
     "base_uri": "https://localhost:8080/",
     "height": 310
    },
    "id": "WqhhaXKiwbaB",
    "outputId": "a099c75b-1d73-4cd0-a4ce-69c0f7a74b91"
   },
   "outputs": [
    {
     "data": {
      "image/png": "[encoded data removed]",
      "text/plain": [
       "<Figure size 1200x600 with 1 Axes>"
      ]
     },
     "metadata": {},
     "output_type": "display_data"
    }
   ],
   "source": [
    "import matplotlib.pyplot as plt\n",
    "import seaborn as sns\n",
    "\n",
    "plt.figure(figsize=(12, 6))\n",
    "sns.barplot(x='Attrition_Rate', y='JobRole', hue='OverTime',\n",
    "            data=role_time, palette='viridis')\n",
    "\n",
    "plt.title('Attrition Rate by Job Role and Overtime Status')\n",
    "plt.xlabel('Attrition Rate')\n",
    "plt.ylabel('Job Role')\n",
    "plt.legend(title='Over Time')\n",
    "plt.show()\n"
   ]
  },
  {
   "cell_type": "markdown",
   "metadata": {
    "id": "T8jAP1I8vm3t"
   },
   "source": [
    "- From this summary, we observe that the **top 3 job roles with the highest attrition rates** (Sales Rep, Laboratory Tech, Human Resources) also have a **higher proportion of employees who work overtime.**\n",
    "- This suggests that **working overtime may be a key factor contributing to the high attrition rates** in these roles."
   ]
  },
  {
   "cell_type": "markdown",
   "metadata": {
    "id": "TA7oGUKcvEoL"
   },
   "source": [
    "#### Monthly Income vs Attrition Rate"
   ]
  },
  {
   "cell_type": "code",
   "execution_count": 38,
   "metadata": {},
   "outputs": [
    {
     "data": {
      "text/html": [
       "<div>\n",
       "<style scoped>\n",
       "    .dataframe tbody tr th:only-of-type {\n",
       "        vertical-align: middle;\n",
       "    }\n",
       "\n",
       "    .dataframe tbody tr th {\n",
       "        vertical-align: top;\n",
       "    }\n",
       "\n",
       "    .dataframe thead th {\n",
       "        text-align: right;\n",
       "    }\n",
       "</style>\n",
       "<table border=\"1\" class=\"dataframe\">\n",
       "  <thead>\n",
       "    <tr style=\"text-align: right;\">\n",
       "      <th></th>\n",
       "      <th>JobRole</th>\n",
       "      <th>Attrition_Rate</th>\n",
       "      <th>MonthlyIncome</th>\n",
       "    </tr>\n",
       "  </thead>\n",
       "  <tbody>\n",
       "    <tr>\n",
       "      <th>8</th>\n",
       "      <td>Sales Representative</td>\n",
       "      <td>0.397590</td>\n",
       "      <td>2626.000000</td>\n",
       "    </tr>\n",
       "    <tr>\n",
       "      <th>2</th>\n",
       "      <td>Laboratory Technician</td>\n",
       "      <td>0.239382</td>\n",
       "      <td>3250.637066</td>\n",
       "    </tr>\n",
       "    <tr>\n",
       "      <th>6</th>\n",
       "      <td>Research Scientist</td>\n",
       "      <td>0.160410</td>\n",
       "      <td>3262.102389</td>\n",
       "    </tr>\n",
       "    <tr>\n",
       "      <th>1</th>\n",
       "      <td>Human Resources</td>\n",
       "      <td>0.245283</td>\n",
       "      <td>4185.169811</td>\n",
       "    </tr>\n",
       "    <tr>\n",
       "      <th>7</th>\n",
       "      <td>Sales Executive</td>\n",
       "      <td>0.174312</td>\n",
       "      <td>6928.984709</td>\n",
       "    </tr>\n",
       "  </tbody>\n",
       "</table>\n",
       "</div>"
      ],
      "text/plain": [
       "                 JobRole  Attrition_Rate  MonthlyIncome\n",
       "8   Sales Representative        0.397590    2626.000000\n",
       "2  Laboratory Technician        0.239382    3250.637066\n",
       "6     Research Scientist        0.160410    3262.102389\n",
       "1        Human Resources        0.245283    4185.169811\n",
       "7        Sales Executive        0.174312    6928.984709"
      ]
     },
     "execution_count": 38,
     "metadata": {},
     "output_type": "execute_result"
    }
   ],
   "source": [
    "role_income = df_clean.groupby(['JobRole'])[['Attrition_Numeric', 'MonthlyIncome']].mean().reset_index()\n",
    "role_income.rename(columns = {'Attrition_Numeric' : 'Attrition_Rate'}, inplace = True)\n",
    "role_income.sort_values('MonthlyIncome', ascending = True).head(5)"
   ]
  },
  {
   "cell_type": "code",
   "execution_count": 39,
   "metadata": {},
   "outputs": [
    {
     "name": "stderr",
     "output_type": "stream",
     "text": [
      "C:\\Users\\ASUS\\AppData\\Local\\Temp\\ipykernel_11852\\725204059.py:2: FutureWarning: \n",
      "\n",
      "Passing `palette` without assigning `hue` is deprecated and will be removed in v0.14.0. Assign the `y` variable to `hue` and set `legend=False` for the same effect.\n",
      "\n",
      "  sns.barplot(x='MonthlyIncome', y='JobRole',\n"
     ]
    },
    {
     "data": {
      "image/png": "[encoded data removed]",
      "text/plain": [
       "<Figure size 600x300 with 1 Axes>"
      ]
     },
     "metadata": {},
     "output_type": "display_data"
    }
   ],
   "source": [
    "plt.figure(figsize=(6, 3))\n",
    "sns.barplot(x='MonthlyIncome', y='JobRole',\n",
    "            data=role_income, palette = 'dark')\n",
    "plt.title('Monthly Income by JobRole (Attrition = Yes)')\n",
    "plt.xlabel('Monthly Income')\n",
    "plt.ylabel('Job Role')\n",
    "plt.show()"
   ]
  },
  {
   "cell_type": "code",
   "execution_count": 40,
   "metadata": {},
   "outputs": [
    {
     "data": {
      "image/png": "[encoded data removed]",
      "text/plain": [
       "<Figure size 600x300 with 1 Axes>"
      ]
     },
     "metadata": {},
     "output_type": "display_data"
    }
   ],
   "source": [
    "import seaborn as sns\n",
    "import matplotlib.pyplot as plt\n",
    "\n",
    "plt.figure(figsize=(6, 3))\n",
    "sns.regplot(x='Attrition_Rate', y='MonthlyIncome', data=role_income, scatter_kws={'s':50}, line_kws={'color':'red'})\n",
    "plt.title('Scatter Plot Attrition Rate vs Monthly Income')\n",
    "plt.xlabel('Attrition Rate')\n",
    "plt.ylabel('Monthly Income')\n",
    "plt.show()"
   ]
  },
  {
   "cell_type": "markdown",
   "metadata": {},
   "source": [
    "Based on the scatter plot above, there is a ***negative correlation between attrition rate and monthly income***, which means that the lower the income, the more likely employees are to leave."
   ]
  },
  {
   "cell_type": "markdown",
   "metadata": {},
   "source": [
    "**Question 3 Conclusion**: Key factors that associated with high attrition rate are job satisfaction, working over time, and monthly income"
   ]
  },
  {
   "cell_type": "markdown",
   "metadata": {
    "id": "Jd8nlytLiBNL"
   },
   "source": [
    "## Q4. Are There Spesific Employee Groups That Are More Likely Leave The Company?"
   ]
  },
  {
   "cell_type": "code",
   "execution_count": 41,
   "metadata": {
    "id": "1yVGXO6QhaJS"
   },
   "outputs": [],
   "source": [
    "def attrition_rate_by_category(df, column_name):\n",
    "\n",
    "  attrition_df = df.groupby(column_name)['Attrition_Numeric'].mean().reset_index()\n",
    "  attrition_df.rename(columns = {'Attrition_Numeric' : 'Attrition_Rate'}, inplace = True)\n",
    "\n",
    "  attrition_df.sort_values('Attrition_Rate', ascending = False)\n",
    "\n",
    "#Pie chart\n",
    "  fig = plt.figure(figsize = (4,4))\n",
    "  plt.pie(attrition_df['Attrition_Rate'], labels = attrition_df[column_name],\n",
    "        autopct = '%1.2f%%', colors=plt.get_cmap('Pastel1').colors,\n",
    "        startangle = 90)\n",
    "  plt.title(f'Attrition Rate by {column_name}')"
   ]
  },
  {
   "cell_type": "markdown",
   "metadata": {
    "id": "duQVKaA7jMPj"
   },
   "source": [
    "#### Attrition Rate by Marital Status"
   ]
  },
  {
   "cell_type": "code",
   "execution_count": 42,
   "metadata": {
    "colab": {
     "base_uri": "https://localhost:8080/",
     "height": 367
    },
    "id": "QJ1i5akgjnE9",
    "outputId": "d4259dfc-78ae-43d8-89bb-19db88d31784"
   },
   "outputs": [
    {
     "data": {
      "image/png": "[encoded data removed]",
      "text/plain": [
       "<Figure size 400x400 with 1 Axes>"
      ]
     },
     "metadata": {},
     "output_type": "display_data"
    }
   ],
   "source": [
    "attrition_rate_by_category(df_clean, 'MaritalStatus')"
   ]
  },
  {
   "cell_type": "markdown",
   "metadata": {},
   "source": [
    "Single employees are more likely to leave the company, possibly because they are more flexible in seeking new opportunities"
   ]
  },
  {
   "cell_type": "markdown",
   "metadata": {
    "id": "V-_hWQ2EmPPI"
   },
   "source": [
    "#### Attrition Rate by Department"
   ]
  },
  {
   "cell_type": "code",
   "execution_count": 43,
   "metadata": {
    "colab": {
     "base_uri": "https://localhost:8080/",
     "height": 367
    },
    "id": "-u0BJt8nmRiV",
    "outputId": "9c457b5d-b3ca-4de4-dff4-5322de5127ee"
   },
   "outputs": [
    {
     "data": {
      "image/png": "[encoded data removed]",
      "text/plain": [
       "<Figure size 400x400 with 1 Axes>"
      ]
     },
     "metadata": {},
     "output_type": "display_data"
    }
   ],
   "source": [
    "attrition_rate_by_category(df_clean, 'Department')"
   ]
  },
  {
   "cell_type": "markdown",
   "metadata": {},
   "source": [
    "Employees in the human resources department are more likely to leave the company"
   ]
  },
  {
   "cell_type": "markdown",
   "metadata": {
    "id": "3a_nq8ndmhcL"
   },
   "source": [
    "#### Attrition Rate by Gender"
   ]
  },
  {
   "cell_type": "code",
   "execution_count": 44,
   "metadata": {
    "colab": {
     "base_uri": "https://localhost:8080/",
     "height": 367
    },
    "id": "D7bpfNB9mXJp",
    "outputId": "702fdb92-bfcb-4ab4-ed42-3434594b253e"
   },
   "outputs": [
    {
     "data": {
      "image/png": "[encoded data removed]",
      "text/plain": [
       "<Figure size 400x400 with 1 Axes>"
      ]
     },
     "metadata": {},
     "output_type": "display_data"
    }
   ],
   "source": [
    "attrition_rate_by_category(df_clean, 'Gender')"
   ]
  },
  {
   "cell_type": "markdown",
   "metadata": {},
   "source": [
    "Male employees are more likely to leave the company"
   ]
  },
  {
   "cell_type": "markdown",
   "metadata": {
    "id": "eqJLKATD0I3_"
   },
   "source": [
    "### Attrition Rate by Monthly Income"
   ]
  },
  {
   "cell_type": "code",
   "execution_count": 45,
   "metadata": {
    "id": "_2dLTPRV0QVh"
   },
   "outputs": [],
   "source": [
    "att_yes = df_clean[df_clean['Attrition'] == 'Yes']\n",
    "att_no = df_clean[df_clean['Attrition'] == 'No']"
   ]
  },
  {
   "cell_type": "code",
   "execution_count": 46,
   "metadata": {
    "colab": {
     "base_uri": "https://localhost:8080/",
     "height": 410
    },
    "id": "9JE0-IFH0kj8",
    "outputId": "7e73a80b-34a0-4edf-955f-b5aa13efb2f7"
   },
   "outputs": [
    {
     "data": {
      "image/png": "[encoded data removed]",
      "text/plain": [
       "<Figure size 600x400 with 1 Axes>"
      ]
     },
     "metadata": {},
     "output_type": "display_data"
    }
   ],
   "source": [
    "import seaborn as sns\n",
    "\n",
    "fig = plt.figure(figsize = (6,4))\n",
    "sns.boxplot(data = df_clean, x = df_clean['Attrition'], y = df_clean['MonthlyIncome'],color = 'white')\n",
    "plt.title('Monthly Income by Attrition Status')\n",
    "plt.show()"
   ]
  },
  {
   "cell_type": "markdown",
   "metadata": {
    "id": "oYFcnaZe2Tpa"
   },
   "source": [
    "From the boxplot, we can see that employees with attrition tend to have a lower monthly income compared to employees without attrition."
   ]
  },
  {
   "cell_type": "markdown",
   "metadata": {
    "id": "yQwiZE4j3LPW"
   },
   "source": [
    "### Attrition Rate by Job Satisfaction"
   ]
  },
  {
   "cell_type": "code",
   "execution_count": 47,
   "metadata": {
    "colab": {
     "base_uri": "https://localhost:8080/",
     "height": 175
    },
    "id": "I0Y05xGz3V02",
    "outputId": "dda62228-7986-4339-8e66-bd9e3fd2104f"
   },
   "outputs": [
    {
     "name": "stderr",
     "output_type": "stream",
     "text": [
      "C:\\Users\\ASUS\\AppData\\Local\\Temp\\ipykernel_11852\\718871829.py:1: FutureWarning: The default of observed=False is deprecated and will be changed to True in a future version of pandas. Pass observed=False to retain current behavior or observed=True to adopt the future default and silence this warning.\n",
      "  satis_att = df_clean.groupby('Job_Satisfaction_Cat', as_index = False)['Attrition_Numeric'].mean()\n"
     ]
    },
    {
     "data": {
      "text/html": [
       "<div>\n",
       "<style scoped>\n",
       "    .dataframe tbody tr th:only-of-type {\n",
       "        vertical-align: middle;\n",
       "    }\n",
       "\n",
       "    .dataframe tbody tr th {\n",
       "        vertical-align: top;\n",
       "    }\n",
       "\n",
       "    .dataframe thead th {\n",
       "        text-align: right;\n",
       "    }\n",
       "</style>\n",
       "<table border=\"1\" class=\"dataframe\">\n",
       "  <thead>\n",
       "    <tr style=\"text-align: right;\">\n",
       "      <th></th>\n",
       "      <th>Job_Satisfaction_Cat</th>\n",
       "      <th>Attrition_Numeric</th>\n",
       "    </tr>\n",
       "  </thead>\n",
       "  <tbody>\n",
       "    <tr>\n",
       "      <th>0</th>\n",
       "      <td>Very Dissatisfied</td>\n",
       "      <td>0.244361</td>\n",
       "    </tr>\n",
       "    <tr>\n",
       "      <th>2</th>\n",
       "      <td>Satisfied</td>\n",
       "      <td>0.178922</td>\n",
       "    </tr>\n",
       "    <tr>\n",
       "      <th>1</th>\n",
       "      <td>Dissatisfied</td>\n",
       "      <td>0.170543</td>\n",
       "    </tr>\n",
       "    <tr>\n",
       "      <th>3</th>\n",
       "      <td>Very Satisfied</td>\n",
       "      <td>0.119438</td>\n",
       "    </tr>\n",
       "  </tbody>\n",
       "</table>\n",
       "</div>"
      ],
      "text/plain": [
       "  Job_Satisfaction_Cat  Attrition_Numeric\n",
       "0    Very Dissatisfied           0.244361\n",
       "2            Satisfied           0.178922\n",
       "1         Dissatisfied           0.170543\n",
       "3       Very Satisfied           0.119438"
      ]
     },
     "execution_count": 47,
     "metadata": {},
     "output_type": "execute_result"
    }
   ],
   "source": [
    "satis_att = df_clean.groupby('Job_Satisfaction_Cat', as_index = False)['Attrition_Numeric'].mean()\n",
    "satis_att.sort_values('Attrition_Numeric', ascending = False)"
   ]
  },
  {
   "cell_type": "code",
   "execution_count": 48,
   "metadata": {
    "colab": {
     "base_uri": "https://localhost:8080/",
     "height": 391
    },
    "id": "Z7A0GZK_3ofo",
    "outputId": "c35473ff-a325-4344-a8f0-c3cd655903a4"
   },
   "outputs": [
    {
     "data": {
      "image/png": "[encoded data removed]",
      "text/plain": [
       "<Figure size 600x400 with 1 Axes>"
      ]
     },
     "metadata": {},
     "output_type": "display_data"
    }
   ],
   "source": [
    "import matplotlib.pyplot as plt\n",
    "\n",
    "fig = plt.figure(figsize = (6,4))\n",
    "plt.barh(satis_att['Job_Satisfaction_Cat'], satis_att['Attrition_Numeric'],\n",
    "         color =plt.get_cmap('Dark2').colors)\n",
    "plt.title('Attrition Rate by Job Satisfaction')\n",
    "plt.show()"
   ]
  },
  {
   "cell_type": "markdown",
   "metadata": {
    "id": "5RA63XU894Fy"
   },
   "source": [
    "- Employees who are very dissatisfied with their job have the highest attrition rate (25.4%).\n",
    "- This suggests that high dissatisfaction is **strongly associated** with a higher likelihood of leaving the company"
   ]
  },
  {
   "cell_type": "markdown",
   "metadata": {
    "id": "M1_bOJUQ-fIC"
   },
   "source": [
    "### Attrition Rate by Commute Distance"
   ]
  },
  {
   "cell_type": "code",
   "execution_count": 49,
   "metadata": {
    "colab": {
     "base_uri": "https://localhost:8080/",
     "height": 472
    },
    "id": "TouGX78G93hI",
    "outputId": "68e7c50a-1e1e-4da3-e554-81bfe4b9f143"
   },
   "outputs": [
    {
     "data": {
      "image/png": "[encoded data removed]",
      "text/plain": [
       "<Figure size 640x480 with 1 Axes>"
      ]
     },
     "metadata": {},
     "output_type": "display_data"
    }
   ],
   "source": [
    "import seaborn as sns\n",
    "sns.boxplot(df_clean, x = df_clean['Attrition'], y = df_clean['DistanceFromHome'], color = 'white')\n",
    "plt.title('Commute Distance by Attrition Status')\n",
    "plt.show()"
   ]
  },
  {
   "cell_type": "markdown",
   "metadata": {
    "id": "wFR3-hQ1_YC2"
   },
   "source": [
    "Employees who have a longer distance from home are more likely to attrite\n",
    "\n"
   ]
  },
  {
   "cell_type": "markdown",
   "metadata": {},
   "source": [
    "**Question 4 Conclusion**:\n",
    "Groups that are more likely to leave the company include \n",
    "1. Employees who are single\n",
    "2. Those in the Human Resources department\n",
    "3. Male employees\n",
    "4. Those earning lower monthly income\n",
    "5. Employees who feel dissatisfaction with their job\n",
    "6. Those who have a longer distance from home"
   ]
  },
  {
   "cell_type": "markdown",
   "metadata": {
    "id": "0Phh1RZ3ACOH"
   },
   "source": [
    "## Q5. How does attrition trend vary across different levels of total working experience? (Tenure Analysis)"
   ]
  },
  {
   "cell_type": "code",
   "execution_count": 50,
   "metadata": {
    "colab": {
     "base_uri": "https://localhost:8080/",
     "height": 583
    },
    "id": "pBvtgEFTAWR3",
    "outputId": "3aa74eb6-bdb3-48d3-d028-270fd4bed0b1"
   },
   "outputs": [
    {
     "data": {
      "text/html": [
       "<div>\n",
       "<style scoped>\n",
       "    .dataframe tbody tr th:only-of-type {\n",
       "        vertical-align: middle;\n",
       "    }\n",
       "\n",
       "    .dataframe tbody tr th {\n",
       "        vertical-align: top;\n",
       "    }\n",
       "\n",
       "    .dataframe thead th {\n",
       "        text-align: right;\n",
       "    }\n",
       "</style>\n",
       "<table border=\"1\" class=\"dataframe\">\n",
       "  <thead>\n",
       "    <tr style=\"text-align: right;\">\n",
       "      <th></th>\n",
       "      <th>Age</th>\n",
       "      <th>Attrition</th>\n",
       "      <th>BusinessTravel</th>\n",
       "      <th>DailyRate</th>\n",
       "      <th>Department</th>\n",
       "      <th>DistanceFromHome</th>\n",
       "      <th>EmployeeNumber</th>\n",
       "      <th>Gender</th>\n",
       "      <th>JobRole</th>\n",
       "      <th>JobSatisfaction</th>\n",
       "      <th>MaritalStatus</th>\n",
       "      <th>MonthlyIncome</th>\n",
       "      <th>OverTime</th>\n",
       "      <th>TotalWorkingYears</th>\n",
       "      <th>Job_Satisfaction_Cat</th>\n",
       "      <th>Attrition_Numeric</th>\n",
       "      <th>TotalWorkingYearsBins</th>\n",
       "    </tr>\n",
       "  </thead>\n",
       "  <tbody>\n",
       "    <tr>\n",
       "      <th>0</th>\n",
       "      <td>41</td>\n",
       "      <td>Yes</td>\n",
       "      <td>Travel_Rarely</td>\n",
       "      <td>1102</td>\n",
       "      <td>Sales</td>\n",
       "      <td>1</td>\n",
       "      <td>1</td>\n",
       "      <td>Female</td>\n",
       "      <td>Sales Executive</td>\n",
       "      <td>4</td>\n",
       "      <td>Single</td>\n",
       "      <td>5993</td>\n",
       "      <td>Yes</td>\n",
       "      <td>8</td>\n",
       "      <td>Very Satisfied</td>\n",
       "      <td>1</td>\n",
       "      <td>0-10</td>\n",
       "    </tr>\n",
       "    <tr>\n",
       "      <th>1</th>\n",
       "      <td>49</td>\n",
       "      <td>No</td>\n",
       "      <td>Travel_Frequently</td>\n",
       "      <td>279</td>\n",
       "      <td>Research &amp; Development</td>\n",
       "      <td>8</td>\n",
       "      <td>2</td>\n",
       "      <td>Male</td>\n",
       "      <td>Research Scientist</td>\n",
       "      <td>2</td>\n",
       "      <td>Married</td>\n",
       "      <td>5130</td>\n",
       "      <td>No</td>\n",
       "      <td>10</td>\n",
       "      <td>Dissatisfied</td>\n",
       "      <td>0</td>\n",
       "      <td>0-10</td>\n",
       "    </tr>\n",
       "    <tr>\n",
       "      <th>2</th>\n",
       "      <td>37</td>\n",
       "      <td>Yes</td>\n",
       "      <td>Travel_Rarely</td>\n",
       "      <td>1373</td>\n",
       "      <td>Research &amp; Development</td>\n",
       "      <td>2</td>\n",
       "      <td>4</td>\n",
       "      <td>Male</td>\n",
       "      <td>Laboratory Technician</td>\n",
       "      <td>3</td>\n",
       "      <td>Single</td>\n",
       "      <td>2090</td>\n",
       "      <td>Yes</td>\n",
       "      <td>7</td>\n",
       "      <td>Satisfied</td>\n",
       "      <td>1</td>\n",
       "      <td>0-10</td>\n",
       "    </tr>\n",
       "    <tr>\n",
       "      <th>3</th>\n",
       "      <td>33</td>\n",
       "      <td>No</td>\n",
       "      <td>Travel_Frequently</td>\n",
       "      <td>1392</td>\n",
       "      <td>Research &amp; Development</td>\n",
       "      <td>3</td>\n",
       "      <td>5</td>\n",
       "      <td>Female</td>\n",
       "      <td>Research Scientist</td>\n",
       "      <td>3</td>\n",
       "      <td>Married</td>\n",
       "      <td>2909</td>\n",
       "      <td>Yes</td>\n",
       "      <td>8</td>\n",
       "      <td>Satisfied</td>\n",
       "      <td>0</td>\n",
       "      <td>0-10</td>\n",
       "    </tr>\n",
       "    <tr>\n",
       "      <th>4</th>\n",
       "      <td>27</td>\n",
       "      <td>No</td>\n",
       "      <td>Travel_Rarely</td>\n",
       "      <td>591</td>\n",
       "      <td>Research &amp; Development</td>\n",
       "      <td>2</td>\n",
       "      <td>7</td>\n",
       "      <td>Male</td>\n",
       "      <td>Laboratory Technician</td>\n",
       "      <td>2</td>\n",
       "      <td>Married</td>\n",
       "      <td>3468</td>\n",
       "      <td>No</td>\n",
       "      <td>6</td>\n",
       "      <td>Dissatisfied</td>\n",
       "      <td>0</td>\n",
       "      <td>0-10</td>\n",
       "    </tr>\n",
       "  </tbody>\n",
       "</table>\n",
       "</div>"
      ],
      "text/plain": [
       "   Age Attrition     BusinessTravel  DailyRate              Department  \\\n",
       "0   41       Yes      Travel_Rarely       1102                   Sales   \n",
       "1   49        No  Travel_Frequently        279  Research & Development   \n",
       "2   37       Yes      Travel_Rarely       1373  Research & Development   \n",
       "3   33        No  Travel_Frequently       1392  Research & Development   \n",
       "4   27        No      Travel_Rarely        591  Research & Development   \n",
       "\n",
       "   DistanceFromHome  EmployeeNumber  Gender                JobRole  \\\n",
       "0                 1               1  Female        Sales Executive   \n",
       "1                 8               2    Male     Research Scientist   \n",
       "2                 2               4    Male  Laboratory Technician   \n",
       "3                 3               5  Female     Research Scientist   \n",
       "4                 2               7    Male  Laboratory Technician   \n",
       "\n",
       "  JobSatisfaction MaritalStatus  MonthlyIncome OverTime  TotalWorkingYears  \\\n",
       "0               4        Single           5993      Yes                  8   \n",
       "1               2       Married           5130       No                 10   \n",
       "2               3        Single           2090      Yes                  7   \n",
       "3               3       Married           2909      Yes                  8   \n",
       "4               2       Married           3468       No                  6   \n",
       "\n",
       "  Job_Satisfaction_Cat  Attrition_Numeric TotalWorkingYearsBins  \n",
       "0       Very Satisfied                  1                  0-10  \n",
       "1         Dissatisfied                  0                  0-10  \n",
       "2            Satisfied                  1                  0-10  \n",
       "3            Satisfied                  0                  0-10  \n",
       "4         Dissatisfied                  0                  0-10  "
      ]
     },
     "execution_count": 50,
     "metadata": {},
     "output_type": "execute_result"
    }
   ],
   "source": [
    "#create total working years bin\n",
    "df_clean = df_clean.copy()\n",
    "bins = [0, 10, 20, 30, 40]\n",
    "labels = ['0-10', '11-20', '21-30', '31-40']\n",
    "df_clean['TotalWorkingYearsBins'] = pd.cut(df_clean['TotalWorkingYears'], bins = bins, labels = labels, include_lowest = True)\n",
    "df_clean.head()"
   ]
  },
  {
   "cell_type": "code",
   "execution_count": 51,
   "metadata": {
    "colab": {
     "base_uri": "https://localhost:8080/",
     "height": 241
    },
    "id": "b26_UsnfCRxG",
    "outputId": "2cc6db09-f41f-46fa-8b24-963afce3febd"
   },
   "outputs": [
    {
     "data": {
      "text/plain": [
       "TotalWorkingYears\n",
       "0-10     923\n",
       "11-20    339\n",
       "21-30     76\n",
       "31-40     21\n",
       "Name: count, dtype: int64"
      ]
     },
     "execution_count": 51,
     "metadata": {},
     "output_type": "execute_result"
    }
   ],
   "source": [
    "pd.cut(df_clean['TotalWorkingYears'], bins=bins, labels = labels, include_lowest=True).value_counts()"
   ]
  },
  {
   "cell_type": "code",
   "execution_count": 52,
   "metadata": {
    "colab": {
     "base_uri": "https://localhost:8080/",
     "height": 296
    },
    "id": "y2LgBQWJAItz",
    "outputId": "c817d904-802d-4b6e-dc76-6d83e63a25d5"
   },
   "outputs": [
    {
     "name": "stderr",
     "output_type": "stream",
     "text": [
      "C:\\Users\\ASUS\\AppData\\Local\\Temp\\ipykernel_11852\\2096106399.py:1: FutureWarning: The default of observed=False is deprecated and will be changed to True in a future version of pandas. Pass observed=False to retain current behavior or observed=True to adopt the future default and silence this warning.\n",
      "  tenure = df_clean.groupby('TotalWorkingYearsBins')['Attrition_Numeric'].mean()\n"
     ]
    },
    {
     "data": {
      "text/plain": [
       "TotalWorkingYearsBins\n",
       "0-10     0.198267\n",
       "11-20    0.115044\n",
       "21-30    0.105263\n",
       "31-40    0.142857\n",
       "Name: Attrition_Numeric, dtype: float64"
      ]
     },
     "execution_count": 52,
     "metadata": {},
     "output_type": "execute_result"
    }
   ],
   "source": [
    "tenure = df_clean.groupby('TotalWorkingYearsBins')['Attrition_Numeric'].mean()\n",
    "tenure"
   ]
  },
  {
   "cell_type": "code",
   "execution_count": 53,
   "metadata": {
    "colab": {
     "base_uri": "https://localhost:8080/",
     "height": 206
    },
    "id": "LSRrojtjEIn7",
    "outputId": "402262f3-9811-4970-f34d-c2d670b4a920"
   },
   "outputs": [
    {
     "data": {
      "text/html": [
       "<div>\n",
       "<style scoped>\n",
       "    .dataframe tbody tr th:only-of-type {\n",
       "        vertical-align: middle;\n",
       "    }\n",
       "\n",
       "    .dataframe tbody tr th {\n",
       "        vertical-align: top;\n",
       "    }\n",
       "\n",
       "    .dataframe thead th {\n",
       "        text-align: right;\n",
       "    }\n",
       "</style>\n",
       "<table border=\"1\" class=\"dataframe\">\n",
       "  <thead>\n",
       "    <tr style=\"text-align: right;\">\n",
       "      <th></th>\n",
       "      <th>TotalWorkingYears</th>\n",
       "      <th>Attrition_Rate</th>\n",
       "    </tr>\n",
       "  </thead>\n",
       "  <tbody>\n",
       "    <tr>\n",
       "      <th>0</th>\n",
       "      <td>0</td>\n",
       "      <td>0.45</td>\n",
       "    </tr>\n",
       "    <tr>\n",
       "      <th>1</th>\n",
       "      <td>1</td>\n",
       "      <td>0.50</td>\n",
       "    </tr>\n",
       "    <tr>\n",
       "      <th>2</th>\n",
       "      <td>2</td>\n",
       "      <td>0.29</td>\n",
       "    </tr>\n",
       "    <tr>\n",
       "      <th>3</th>\n",
       "      <td>3</td>\n",
       "      <td>0.21</td>\n",
       "    </tr>\n",
       "    <tr>\n",
       "      <th>4</th>\n",
       "      <td>4</td>\n",
       "      <td>0.19</td>\n",
       "    </tr>\n",
       "  </tbody>\n",
       "</table>\n",
       "</div>"
      ],
      "text/plain": [
       "   TotalWorkingYears  Attrition_Rate\n",
       "0                  0            0.45\n",
       "1                  1            0.50\n",
       "2                  2            0.29\n",
       "3                  3            0.21\n",
       "4                  4            0.19"
      ]
     },
     "execution_count": 53,
     "metadata": {},
     "output_type": "execute_result"
    }
   ],
   "source": [
    "tenure2 = df_clean.groupby('TotalWorkingYears', as_index = False)['Attrition_Numeric'].mean().round(2)\n",
    "tenure2.rename(columns = {\n",
    "    'Attrition_Numeric' : 'Attrition_Rate'},\n",
    "    inplace = True)\n",
    "\n",
    "tenure2 = pd.DataFrame(tenure2)\n",
    "tenure2.head()"
   ]
  },
  {
   "cell_type": "code",
   "execution_count": 54,
   "metadata": {
    "colab": {
     "base_uri": "https://localhost:8080/",
     "height": 264
    },
    "id": "4b23ezt2F8oh",
    "outputId": "306f8386-dc30-4564-da6b-329ff46585fb"
   },
   "outputs": [
    {
     "data": {
      "image/png": "[encoded data removed]",
      "text/plain": [
       "<Figure size 700x300 with 1 Axes>"
      ]
     },
     "metadata": {},
     "output_type": "display_data"
    }
   ],
   "source": [
    "import matplotlib.pyplot as plt\n",
    "\n",
    "fig = plt.figure(figsize=(7, 3))\n",
    "ax = fig.add_subplot()\n",
    "\n",
    "ax.plot(tenure2['TotalWorkingYears'], tenure2['Attrition_Rate'],\n",
    "        color='blue', linestyle='-')\n",
    "ax.set_xlabel('Total Working Years')\n",
    "ax.set_ylabel('Attrition Rate')\n",
    "ax.set_title('Attrition Rate vs. Total Working Years')\n",
    "\n",
    "plt.show()"
   ]
  },
  {
   "cell_type": "markdown",
   "metadata": {
    "id": "JKcaVEteHkJt"
   },
   "source": [
    "- There is **decreasing trend in attrition rates for 0-10 years range**, but it still higher compared to the 11-20 and 21-30 years range, which have relatively stable and lower attrition rates\n",
    "- The attrition rate **peaks significantly for employees in the 30-40 work years** range, indicating a higher likelihood of attrition among older group."
   ]
  },
  {
   "cell_type": "markdown",
   "metadata": {
    "id": "91mt-pBCepB2"
   },
   "source": [
    "# Summary\n",
    "1. Overall attrition rate in this company is **17.1%**\n",
    " \n",
    "2. **Sales Representatives** have the **highest attrition rate** (**39.76%**), followed by Laboratory Technicians (24.03%) and Human Resources (23.08%)\n",
    " \n",
    "3. Key factors that associated with high attrition rates in 3 job roles with the highest attrition rates are **job satisfaction, working over time, and monthly income**\n",
    "\n",
    "4. Groups that are more likely to leave the company include employees who are single, those in the Human Resources department, male employees, those earning lower monthly income, employees who feel dissatisfaction with their job, those who have a longer distance from home\n",
    "   \n",
    "5. There is a **different trend in working years** for each age range.\n",
    "  - Negative trend of attrition rates for employees with 0-10 years range but it still higher than 11-30 range\n",
    "  - Relatively stable at 11-30 years range\n",
    "  - Significant peak for employees with 31-50 years experience."
   ]
  },
  {
   "cell_type": "markdown",
   "metadata": {
    "id": "rlUSAhkg76jM",
    "jp-MarkdownHeadingCollapsed": true
   },
   "source": [
    "# Recommendations\n",
    "1. Improve employee retention, such as identify and resolve job disssatisfaction (example by survey employees) or reviewing overtime policies.\n",
    "2. Consider transportation support to reduce the impact of long commutes on employee retention.\n",
    "3. Make different approach for each working years range:\n",
    "  - 0-10 years: focus on improving or providing growth opportunities, such as career development.\n",
    "  - 11-30 years: maintain engagement by rewarding long-term contributions\n",
    "  - 31-40 years: implementing targeted retirement planning or flexible work options."
   ]
  }
 ],
 "metadata": {
  "colab": {
   "provenance": []
  },
  "kernelspec": {
   "display_name": "Python 3 (ipykernel)",
   "language": "python",
   "name": "python3"
  },
  "language_info": {
   "codemirror_mode": {
    "name": "ipython",
    "version": 3
   },
   "file_extension": ".py",
   "mimetype": "text/x-python",
   "name": "python",
   "nbconvert_exporter": "python",
   "pygments_lexer": "ipython3",
   "version": "3.12.6"
  }
 },
 "nbformat": 4,
 "nbformat_minor": 4
}
